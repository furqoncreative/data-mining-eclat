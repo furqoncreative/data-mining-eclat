{
  "nbformat": 4,
  "nbformat_minor": 0,
  "metadata": {
    "colab": {
      "name": "EclatMovie.ipynb",
      "provenance": [],
      "collapsed_sections": []
    },
    "kernelspec": {
      "display_name": "Python 3",
      "language": "python",
      "name": "python3"
    },
    "language_info": {
      "codemirror_mode": {
        "name": "ipython",
        "version": 3
      },
      "file_extension": ".py",
      "mimetype": "text/x-python",
      "name": "python",
      "nbconvert_exporter": "python",
      "pygments_lexer": "ipython3",
      "version": "3.7.7"
    }
  },
  "cells": [
    {
      "cell_type": "markdown",
      "metadata": {
        "id": "N3PGTZiaM8Jc"
      },
      "source": [
        "# **Eclat for Movie Recomendation Analysis**"
      ]
    },
    {
      "cell_type": "markdown",
      "metadata": {
        "id": "L473Uys9M8Je"
      },
      "source": [
        "Menggunakan algoritma Eclat untuk mendapatkan rekomendasi film berdasarkan aktor, sutradara dan genre\n",
        "\n",
        "Eclat pada dasarnya adalah versi apriori yang disederhanakan, yang hanya mempertimbangkan support, daripada menggunakan ketiganya seperti apriori, yaitu support, Confidence , dan Lift. Oleh karena itu, dapat diimplementasikan dengan cara yang sama seperti apriori, dengan hanya mempertimbangkan Support selama visualisasi"
      ]
    },
    {
      "cell_type": "code",
      "metadata": {
        "id": "6gpoIMtkM-TK",
        "colab": {
          "base_uri": "https://localhost:8080/"
        },
        "outputId": "4d14fd4a-42c4-4e7b-91ea-439518814f22"
      },
      "source": [
        "pip install apyori"
      ],
      "execution_count": null,
      "outputs": [
        {
          "output_type": "stream",
          "text": [
            "Collecting apyori\n",
            "  Downloading https://files.pythonhosted.org/packages/5e/62/5ffde5c473ea4b033490617ec5caa80d59804875ad3c3c57c0976533a21a/apyori-1.1.2.tar.gz\n",
            "Building wheels for collected packages: apyori\n",
            "  Building wheel for apyori (setup.py) ... \u001b[?25l\u001b[?25hdone\n",
            "  Created wheel for apyori: filename=apyori-1.1.2-cp36-none-any.whl size=5975 sha256=71e7bad2c5ad67fbd0bf63cb50a7198d6ba34e4cdf0b58ec85e4bf09de463187\n",
            "  Stored in directory: /root/.cache/pip/wheels/5d/92/bb/474bbadbc8c0062b9eb168f69982a0443263f8ab1711a8cad0\n",
            "Successfully built apyori\n",
            "Installing collected packages: apyori\n",
            "Successfully installed apyori-1.1.2\n"
          ],
          "name": "stdout"
        }
      ]
    },
    {
      "cell_type": "code",
      "metadata": {
        "id": "jtNpwbvMM8Jf"
      },
      "source": [
        "import pandas as pd\n",
        "import numpy as np\n",
        "from apyori import apriori\n",
        "import random"
      ],
      "execution_count": null,
      "outputs": []
    },
    {
      "cell_type": "markdown",
      "metadata": {
        "id": "nC8XJ-T3M8Jm"
      },
      "source": [
        "## Preprocessing the data "
      ]
    },
    {
      "cell_type": "code",
      "metadata": {
        "id": "oYb7XnCIM8Jn",
        "colab": {
          "base_uri": "https://localhost:8080/",
          "height": 360
        },
        "outputId": "6ce8056c-db33-4f3e-b245-1667c6ae403f"
      },
      "source": [
        "url = 'https://raw.githubusercontent.com/furqoncreative/data-mining-eclat/master/movie_metadata.csv'\n",
        "dataset=pd.read_csv(url)\n",
        "dataset.fillna(value=0,axis=1,inplace=True)\n",
        "dataset.head()"
      ],
      "execution_count": null,
      "outputs": [
        {
          "output_type": "execute_result",
          "data": {
            "text/html": [
              "<div>\n",
              "<style scoped>\n",
              "    .dataframe tbody tr th:only-of-type {\n",
              "        vertical-align: middle;\n",
              "    }\n",
              "\n",
              "    .dataframe tbody tr th {\n",
              "        vertical-align: top;\n",
              "    }\n",
              "\n",
              "    .dataframe thead th {\n",
              "        text-align: right;\n",
              "    }\n",
              "</style>\n",
              "<table border=\"1\" class=\"dataframe\">\n",
              "  <thead>\n",
              "    <tr style=\"text-align: right;\">\n",
              "      <th></th>\n",
              "      <th>color</th>\n",
              "      <th>director_name</th>\n",
              "      <th>num_critic_for_reviews</th>\n",
              "      <th>duration</th>\n",
              "      <th>director_facebook_likes</th>\n",
              "      <th>actor_3_facebook_likes</th>\n",
              "      <th>actor_2_name</th>\n",
              "      <th>actor_1_facebook_likes</th>\n",
              "      <th>gross</th>\n",
              "      <th>genres</th>\n",
              "      <th>actor_1_name</th>\n",
              "      <th>movie_title</th>\n",
              "      <th>num_voted_users</th>\n",
              "      <th>cast_total_facebook_likes</th>\n",
              "      <th>actor_3_name</th>\n",
              "      <th>facenumber_in_poster</th>\n",
              "      <th>plot_keywords</th>\n",
              "      <th>movie_imdb_link</th>\n",
              "      <th>num_user_for_reviews</th>\n",
              "      <th>language</th>\n",
              "      <th>country</th>\n",
              "      <th>content_rating</th>\n",
              "      <th>budget</th>\n",
              "      <th>title_year</th>\n",
              "      <th>actor_2_facebook_likes</th>\n",
              "      <th>imdb_score</th>\n",
              "      <th>aspect_ratio</th>\n",
              "      <th>movie_facebook_likes</th>\n",
              "    </tr>\n",
              "  </thead>\n",
              "  <tbody>\n",
              "    <tr>\n",
              "      <th>0</th>\n",
              "      <td>Color</td>\n",
              "      <td>James Cameron</td>\n",
              "      <td>723.0</td>\n",
              "      <td>178.0</td>\n",
              "      <td>0.0</td>\n",
              "      <td>855.0</td>\n",
              "      <td>Joel David Moore</td>\n",
              "      <td>1000.0</td>\n",
              "      <td>760505847.0</td>\n",
              "      <td>Action|Adventure|Fantasy|Sci-Fi</td>\n",
              "      <td>CCH Pounder</td>\n",
              "      <td>Avatar</td>\n",
              "      <td>886204</td>\n",
              "      <td>4834</td>\n",
              "      <td>Wes Studi</td>\n",
              "      <td>0.0</td>\n",
              "      <td>avatar|future|marine|native|paraplegic</td>\n",
              "      <td>http://www.imdb.com/title/tt0499549/?ref_=fn_t...</td>\n",
              "      <td>3054.0</td>\n",
              "      <td>English</td>\n",
              "      <td>USA</td>\n",
              "      <td>PG-13</td>\n",
              "      <td>237000000.0</td>\n",
              "      <td>2009.0</td>\n",
              "      <td>936.0</td>\n",
              "      <td>7.9</td>\n",
              "      <td>1.78</td>\n",
              "      <td>33000</td>\n",
              "    </tr>\n",
              "    <tr>\n",
              "      <th>1</th>\n",
              "      <td>Color</td>\n",
              "      <td>Gore Verbinski</td>\n",
              "      <td>302.0</td>\n",
              "      <td>169.0</td>\n",
              "      <td>563.0</td>\n",
              "      <td>1000.0</td>\n",
              "      <td>Orlando Bloom</td>\n",
              "      <td>40000.0</td>\n",
              "      <td>309404152.0</td>\n",
              "      <td>Action|Adventure|Fantasy</td>\n",
              "      <td>Johnny Depp</td>\n",
              "      <td>Pirates of the Caribbean: At World's End</td>\n",
              "      <td>471220</td>\n",
              "      <td>48350</td>\n",
              "      <td>Jack Davenport</td>\n",
              "      <td>0.0</td>\n",
              "      <td>goddess|marriage ceremony|marriage proposal|pi...</td>\n",
              "      <td>http://www.imdb.com/title/tt0449088/?ref_=fn_t...</td>\n",
              "      <td>1238.0</td>\n",
              "      <td>English</td>\n",
              "      <td>USA</td>\n",
              "      <td>PG-13</td>\n",
              "      <td>300000000.0</td>\n",
              "      <td>2007.0</td>\n",
              "      <td>5000.0</td>\n",
              "      <td>7.1</td>\n",
              "      <td>2.35</td>\n",
              "      <td>0</td>\n",
              "    </tr>\n",
              "    <tr>\n",
              "      <th>2</th>\n",
              "      <td>Color</td>\n",
              "      <td>Sam Mendes</td>\n",
              "      <td>602.0</td>\n",
              "      <td>148.0</td>\n",
              "      <td>0.0</td>\n",
              "      <td>161.0</td>\n",
              "      <td>Rory Kinnear</td>\n",
              "      <td>11000.0</td>\n",
              "      <td>200074175.0</td>\n",
              "      <td>Action|Adventure|Thriller</td>\n",
              "      <td>Christoph Waltz</td>\n",
              "      <td>Spectre</td>\n",
              "      <td>275868</td>\n",
              "      <td>11700</td>\n",
              "      <td>Stephanie Sigman</td>\n",
              "      <td>1.0</td>\n",
              "      <td>bomb|espionage|sequel|spy|terrorist</td>\n",
              "      <td>http://www.imdb.com/title/tt2379713/?ref_=fn_t...</td>\n",
              "      <td>994.0</td>\n",
              "      <td>English</td>\n",
              "      <td>UK</td>\n",
              "      <td>PG-13</td>\n",
              "      <td>245000000.0</td>\n",
              "      <td>2015.0</td>\n",
              "      <td>393.0</td>\n",
              "      <td>6.8</td>\n",
              "      <td>2.35</td>\n",
              "      <td>85000</td>\n",
              "    </tr>\n",
              "    <tr>\n",
              "      <th>3</th>\n",
              "      <td>Color</td>\n",
              "      <td>Christopher Nolan</td>\n",
              "      <td>813.0</td>\n",
              "      <td>164.0</td>\n",
              "      <td>22000.0</td>\n",
              "      <td>23000.0</td>\n",
              "      <td>Christian Bale</td>\n",
              "      <td>27000.0</td>\n",
              "      <td>448130642.0</td>\n",
              "      <td>Action|Thriller</td>\n",
              "      <td>Tom Hardy</td>\n",
              "      <td>The Dark Knight Rises</td>\n",
              "      <td>1144337</td>\n",
              "      <td>106759</td>\n",
              "      <td>Joseph Gordon-Levitt</td>\n",
              "      <td>0.0</td>\n",
              "      <td>deception|imprisonment|lawlessness|police offi...</td>\n",
              "      <td>http://www.imdb.com/title/tt1345836/?ref_=fn_t...</td>\n",
              "      <td>2701.0</td>\n",
              "      <td>English</td>\n",
              "      <td>USA</td>\n",
              "      <td>PG-13</td>\n",
              "      <td>250000000.0</td>\n",
              "      <td>2012.0</td>\n",
              "      <td>23000.0</td>\n",
              "      <td>8.5</td>\n",
              "      <td>2.35</td>\n",
              "      <td>164000</td>\n",
              "    </tr>\n",
              "    <tr>\n",
              "      <th>4</th>\n",
              "      <td>0</td>\n",
              "      <td>Doug Walker</td>\n",
              "      <td>0.0</td>\n",
              "      <td>0.0</td>\n",
              "      <td>131.0</td>\n",
              "      <td>0.0</td>\n",
              "      <td>Rob Walker</td>\n",
              "      <td>131.0</td>\n",
              "      <td>0.0</td>\n",
              "      <td>Documentary</td>\n",
              "      <td>Doug Walker</td>\n",
              "      <td>Star Wars: Episode VII - The Force Awakens</td>\n",
              "      <td>8</td>\n",
              "      <td>143</td>\n",
              "      <td>0</td>\n",
              "      <td>0.0</td>\n",
              "      <td>0</td>\n",
              "      <td>http://www.imdb.com/title/tt5289954/?ref_=fn_t...</td>\n",
              "      <td>0.0</td>\n",
              "      <td>0</td>\n",
              "      <td>0</td>\n",
              "      <td>0</td>\n",
              "      <td>0.0</td>\n",
              "      <td>0.0</td>\n",
              "      <td>12.0</td>\n",
              "      <td>7.1</td>\n",
              "      <td>0.00</td>\n",
              "      <td>0</td>\n",
              "    </tr>\n",
              "  </tbody>\n",
              "</table>\n",
              "</div>"
            ],
            "text/plain": [
              "   color      director_name  ...  aspect_ratio  movie_facebook_likes\n",
              "0  Color      James Cameron  ...          1.78                 33000\n",
              "1  Color     Gore Verbinski  ...          2.35                     0\n",
              "2  Color         Sam Mendes  ...          2.35                 85000\n",
              "3  Color  Christopher Nolan  ...          2.35                164000\n",
              "4      0        Doug Walker  ...          0.00                     0\n",
              "\n",
              "[5 rows x 28 columns]"
            ]
          },
          "metadata": {
            "tags": []
          },
          "execution_count": 5
        }
      ]
    },
    {
      "cell_type": "code",
      "metadata": {
        "id": "L-RIGEXlM8Ju",
        "colab": {
          "base_uri": "https://localhost:8080/"
        },
        "outputId": "4639b87f-ba9d-4769-c04d-22c13ec6d414"
      },
      "source": [
        "dataset.shape"
      ],
      "execution_count": null,
      "outputs": [
        {
          "output_type": "execute_result",
          "data": {
            "text/plain": [
              "(5043, 28)"
            ]
          },
          "metadata": {
            "tags": []
          },
          "execution_count": 6
        }
      ]
    },
    {
      "cell_type": "markdown",
      "metadata": {
        "id": "PtZYepz1M8J1"
      },
      "source": [
        "Menampung dataset dalam bentuk array"
      ]
    },
    {
      "cell_type": "code",
      "metadata": {
        "id": "plEvYZzq3pVY"
      },
      "source": [
        "movieData=[]\n",
        "for i in range(0,1000):\n",
        "    movieData.append([str(dataset.values[i,j]) for j in range(0,28)])"
      ],
      "execution_count": null,
      "outputs": []
    },
    {
      "cell_type": "code",
      "metadata": {
        "id": "8GpX5-GG4iXb",
        "colab": {
          "base_uri": "https://localhost:8080/"
        },
        "outputId": "93026b85-e2b2-4531-9bd0-c3b3dfdf154c"
      },
      "source": [
        "movieData[:1]"
      ],
      "execution_count": null,
      "outputs": [
        {
          "output_type": "execute_result",
          "data": {
            "text/plain": [
              "[['Color',\n",
              "  'James Cameron',\n",
              "  '723.0',\n",
              "  '178.0',\n",
              "  '0.0',\n",
              "  '855.0',\n",
              "  'Joel David Moore',\n",
              "  '1000.0',\n",
              "  '760505847.0',\n",
              "  'Action|Adventure|Fantasy|Sci-Fi',\n",
              "  'CCH Pounder',\n",
              "  'Avatar\\xa0',\n",
              "  '886204',\n",
              "  '4834',\n",
              "  'Wes Studi',\n",
              "  '0.0',\n",
              "  'avatar|future|marine|native|paraplegic',\n",
              "  'http://www.imdb.com/title/tt0499549/?ref_=fn_tt_tt_1',\n",
              "  '3054.0',\n",
              "  'English',\n",
              "  'USA',\n",
              "  'PG-13',\n",
              "  '237000000.0',\n",
              "  '2009.0',\n",
              "  '936.0',\n",
              "  '7.9',\n",
              "  '1.78',\n",
              "  '33000']]"
            ]
          },
          "metadata": {
            "tags": []
          },
          "execution_count": 8
        }
      ]
    },
    {
      "cell_type": "markdown",
      "metadata": {
        "id": "wTDgn3nC_wpH"
      },
      "source": [
        "Membuat sampel transaksi kebiasan user menonton film dalam 30 hari.\n",
        "Dengan asumsi bahwa film yang ditonton selanjutnya:\n",
        "1. memiliki aktor yang sama dari film sebelumnya, atau\n",
        "2. memiliki sutradara yang sama dari film sebelumnya, atau\n",
        "3. memiliki genre yang sama dari film sebelumnya"
      ]
    },
    {
      "cell_type": "code",
      "metadata": {
        "id": "N0DOVnGzA685"
      },
      "source": [
        "def getNextMovie(i,s):\n",
        "    for i in range(i,1000):\n",
        "      if (movieData)[i][10] == s[10] or (movieData)[i][9] == s[1] or (movieData)[i][9] == s[9]:\n",
        "        if movieData[i][11] != s[11]:\n",
        "          return movieData[i]\n",
        "        else:\n",
        "          return random.choice(movieData)\n",
        "      else: \n",
        "        return random.choice(movieData)"
      ],
      "execution_count": null,
      "outputs": []
    },
    {
      "cell_type": "code",
      "metadata": {
        "id": "gNtGoGSQM8J2"
      },
      "source": [
        "movieTransactions=[]\n",
        "userTransactions=[]\n",
        "for i in range(0,1000):\n",
        "    firtsMovie = (random.choice(movieData))\n",
        "    userTransactions.append([])\n",
        "    movieTransactions.append([])\n",
        "    movieTransactions[i].append(getNextMovie(i,firtsMovie))\n",
        "    for j in range(0,30):\n",
        "      movieTransactions[i].append(getNextMovie(i,movieTransactions[i][j]))\n",
        "      userTransactions[i].append(movieTransactions[i][j][11].replace(u'\\xa0', u''))"
      ],
      "execution_count": null,
      "outputs": []
    },
    {
      "cell_type": "code",
      "metadata": {
        "id": "naUlNmi2M8J7",
        "colab": {
          "base_uri": "https://localhost:8080/"
        },
        "outputId": "1a69ea9a-cf12-469e-849b-4b874781a713"
      },
      "source": [
        "userTransactions[:3]"
      ],
      "execution_count": null,
      "outputs": [
        {
          "output_type": "execute_result",
          "data": {
            "text/plain": [
              "[['Chain Reaction',\n",
              "  'The Secret Life of Pets',\n",
              "  'Constantine',\n",
              "  'Tangled',\n",
              "  'Kill Bill: Vol. 2',\n",
              "  'The A-Team',\n",
              "  'Big Fish',\n",
              "  'Ted',\n",
              "  'Hercules',\n",
              "  'Star Trek',\n",
              "  'Twister',\n",
              "  'John Carter',\n",
              "  'Semi-Pro',\n",
              "  'The Spiderwick Chronicles',\n",
              "  'The Girl with the Dragon Tattoo',\n",
              "  \"Something's Gotta Give\",\n",
              "  'Pocahontas',\n",
              "  'Flight of the Phoenix',\n",
              "  'Gods of Egypt',\n",
              "  'Marley & Me',\n",
              "  'The Jackal',\n",
              "  '22 Jump Street',\n",
              "  'The 13th Warrior',\n",
              "  'Hannibal',\n",
              "  'Stepmom',\n",
              "  'Underworld: Awakening',\n",
              "  'Treasure Planet',\n",
              "  'Mission: Impossible III',\n",
              "  'Marmaduke',\n",
              "  'Open Season'],\n",
              " ['Seven Years in Tibet',\n",
              "  'The Nutty Professor',\n",
              "  'Interview with the Vampire: The Vampire Chronicles',\n",
              "  'Ladder 49',\n",
              "  'Dredd',\n",
              "  'Hotel Transylvania 2',\n",
              "  'Flight of the Phoenix',\n",
              "  'We Are Marshall',\n",
              "  'The Truman Show',\n",
              "  'Everest',\n",
              "  'Elektra',\n",
              "  'The Black Dahlia',\n",
              "  'Cinderella Man',\n",
              "  'Instinct',\n",
              "  \"The Devil's Advocate\",\n",
              "  'Talladega Nights: The Ballad of Ricky Bobby',\n",
              "  'The Secret Life of Pets',\n",
              "  'Home',\n",
              "  'Inside Out',\n",
              "  'Hotel Transylvania 2',\n",
              "  'Sleepy Hollow',\n",
              "  'Sphere',\n",
              "  'Kangaroo Jack',\n",
              "  'Hall Pass',\n",
              "  'Analyze That',\n",
              "  'Eye See You',\n",
              "  'The Avengers',\n",
              "  'The Soloist',\n",
              "  'This Means War',\n",
              "  'Kung Fu Panda'],\n",
              " ['Mirror Mirror',\n",
              "  'The Village',\n",
              "  'The Chronicles of Narnia: Prince Caspian',\n",
              "  'The Amazing Spider-Man',\n",
              "  'The Time Machine',\n",
              "  \"Captain Corelli's Mandolin\",\n",
              "  'The Internship',\n",
              "  'The Pursuit of Happyness',\n",
              "  'Walking Tall',\n",
              "  'The Polar Express',\n",
              "  'Prince of Persia: The Sands of Time',\n",
              "  'Armageddon',\n",
              "  'The Legend of Hercules',\n",
              "  'Final Fantasy: The Spirits Within',\n",
              "  'Hostage',\n",
              "  'The Equalizer',\n",
              "  'Killer Elite',\n",
              "  'Driven',\n",
              "  'xXx',\n",
              "  'Spectre',\n",
              "  'Kill Bill: Vol. 2',\n",
              "  'Stuart Little 2',\n",
              "  'After the Sunset',\n",
              "  'Doctor Dolittle',\n",
              "  'Flushed Away',\n",
              "  'Hotel for Dogs',\n",
              "  'Constantine',\n",
              "  'Lincoln',\n",
              "  'American Reunion',\n",
              "  'Mission: Impossible - Ghost Protocol']]"
            ]
          },
          "metadata": {
            "tags": []
          },
          "execution_count": 11
        }
      ]
    },
    {
      "cell_type": "markdown",
      "metadata": {
        "id": "H6YGYPXyM8KA"
      },
      "source": [
        "## Training the Eclat model"
      ]
    },
    {
      "cell_type": "code",
      "metadata": {
        "id": "YMMtiJLBM8KA"
      },
      "source": [
        "# min_support = film ditonton 1x sehari * 30 hari / 1000 user = 0.003\n",
        "# min_confidence: setidaknya 20%\n",
        "# min_lift = 2\n",
        "\n",
        "from apyori import apriori\n",
        "rules=apriori(userTransactions,min_support=0.003,min_confidence=0.2,min_lift=3,min_length=2,max_length=2)"
      ],
      "execution_count": null,
      "outputs": []
    },
    {
      "cell_type": "markdown",
      "metadata": {
        "id": "tVLlAhbcM8KF"
      },
      "source": [
        "List hasil data training:"
      ]
    },
    {
      "cell_type": "code",
      "metadata": {
        "id": "n9Q-poW5M8KG",
        "colab": {
          "base_uri": "https://localhost:8080/"
        },
        "outputId": "819286f5-b502-4dc7-c63e-e98863389d0d"
      },
      "source": [
        "results=list(rules)\n",
        "results"
      ],
      "execution_count": null,
      "outputs": [
        {
          "output_type": "execute_result",
          "data": {
            "text/plain": [
              "[RelationRecord(items=frozenset({'102 Dalmatians', 'San Andreas'}), support=0.005, ordered_statistics=[OrderedStatistic(items_base=frozenset({'102 Dalmatians'}), items_add=frozenset({'San Andreas'}), confidence=0.20833333333333334, lift=8.012820512820513)]),\n",
              " RelationRecord(items=frozenset({'Happy Feet 2', '2 Fast 2 Furious'}), support=0.004, ordered_statistics=[OrderedStatistic(items_base=frozenset({'Happy Feet 2'}), items_add=frozenset({'2 Fast 2 Furious'}), confidence=0.2, lift=4.444444444444445)]),\n",
              " RelationRecord(items=frozenset({'2 Fast 2 Furious', 'Man on Fire'}), support=0.004, ordered_statistics=[OrderedStatistic(items_base=frozenset({'Man on Fire'}), items_add=frozenset({'2 Fast 2 Furious'}), confidence=0.2, lift=4.444444444444445)]),\n",
              " RelationRecord(items=frozenset({'2 Fast 2 Furious', 'Unforgotten'}), support=0.005, ordered_statistics=[OrderedStatistic(items_base=frozenset({'Unforgotten'}), items_add=frozenset({'2 Fast 2 Furious'}), confidence=0.20833333333333334, lift=4.62962962962963)]),\n",
              " RelationRecord(items=frozenset({'2 Guns', 'Ted 2'}), support=0.006, ordered_statistics=[OrderedStatistic(items_base=frozenset({'2 Guns'}), items_add=frozenset({'Ted 2'}), confidence=0.2, lift=6.25)]),\n",
              " RelationRecord(items=frozenset({'Star Trek Beyond', '22 Jump Street'}), support=0.004, ordered_statistics=[OrderedStatistic(items_base=frozenset({'Star Trek Beyond'}), items_add=frozenset({'22 Jump Street'}), confidence=0.2, lift=6.25)]),\n",
              " RelationRecord(items=frozenset({'War of the Worlds', '300'}), support=0.004, ordered_statistics=[OrderedStatistic(items_base=frozenset({'War of the Worlds'}), items_add=frozenset({'300'}), confidence=0.2, lift=6.666666666666667)]),\n",
              " RelationRecord(items=frozenset({'Clear and Present Danger', '50 First Dates'}), support=0.004, ordered_statistics=[OrderedStatistic(items_base=frozenset({'Clear and Present Danger'}), items_add=frozenset({'50 First Dates'}), confidence=0.2, lift=5.128205128205129)]),\n",
              " RelationRecord(items=frozenset({'Waterworld', '50 First Dates'}), support=0.006, ordered_statistics=[OrderedStatistic(items_base=frozenset({'Waterworld'}), items_add=frozenset({'50 First Dates'}), confidence=0.22222222222222224, lift=5.698005698005699)]),\n",
              " RelationRecord(items=frozenset({'The Golden Compass', 'A Sound of Thunder'}), support=0.003, ordered_statistics=[OrderedStatistic(items_base=frozenset({'The Golden Compass'}), items_add=frozenset({'A Sound of Thunder'}), confidence=0.21428571428571427, lift=7.936507936507936)]),\n",
              " RelationRecord(items=frozenset({'A Very Long Engagement', 'Annie'}), support=0.006, ordered_statistics=[OrderedStatistic(items_base=frozenset({'A Very Long Engagement'}), items_add=frozenset({'Annie'}), confidence=0.21428571428571427, lift=7.142857142857142), OrderedStatistic(items_base=frozenset({'Annie'}), items_add=frozenset({'A Very Long Engagement'}), confidence=0.2, lift=7.142857142857143)]),\n",
              " RelationRecord(items=frozenset({'A Very Long Engagement', 'Finding Nemo'}), support=0.005, ordered_statistics=[OrderedStatistic(items_base=frozenset({'Finding Nemo'}), items_add=frozenset({'A Very Long Engagement'}), confidence=0.20833333333333334, lift=7.440476190476191)]),\n",
              " RelationRecord(items=frozenset({'Noah', 'A.I. Artificial Intelligence'}), support=0.005, ordered_statistics=[OrderedStatistic(items_base=frozenset({'Noah'}), items_add=frozenset({'A.I. Artificial Intelligence'}), confidence=0.2173913043478261, lift=6.587615283267458)]),\n",
              " RelationRecord(items=frozenset({'Chain Reaction', 'Air Force One'}), support=0.005, ordered_statistics=[OrderedStatistic(items_base=frozenset({'Chain Reaction'}), items_add=frozenset({'Air Force One'}), confidence=0.2272727272727273, lift=8.417508417508419)]),\n",
              " RelationRecord(items=frozenset({'The Wolverine', 'Alexander'}), support=0.005, ordered_statistics=[OrderedStatistic(items_base=frozenset({'The Wolverine'}), items_add=frozenset({'Alexander'}), confidence=0.20833333333333334, lift=6.720430107526882)]),\n",
              " RelationRecord(items=frozenset({'Pirates of the Caribbean: The Curse of the Black Pearl', 'Alice in Wonderland'}), support=0.004, ordered_statistics=[OrderedStatistic(items_base=frozenset({'Pirates of the Caribbean: The Curse of the Black Pearl'}), items_add=frozenset({'Alice in Wonderland'}), confidence=0.2105263157894737, lift=8.097165991902836)]),\n",
              " RelationRecord(items=frozenset({'The Tourist', 'All That Jazz'}), support=0.005, ordered_statistics=[OrderedStatistic(items_base=frozenset({'The Tourist'}), items_add=frozenset({'All That Jazz'}), confidence=0.2272727272727273, lift=7.1022727272727275)]),\n",
              " RelationRecord(items=frozenset({'Firewall', \"All the King's Men\"}), support=0.004, ordered_statistics=[OrderedStatistic(items_base=frozenset({'Firewall'}), items_add=frozenset({\"All the King's Men\"}), confidence=0.2, lift=6.25)]),\n",
              " RelationRecord(items=frozenset({'The Adventures of Rocky & Bullwinkle', \"All the King's Men\"}), support=0.004, ordered_statistics=[OrderedStatistic(items_base=frozenset({'The Adventures of Rocky & Bullwinkle'}), items_add=frozenset({\"All the King's Men\"}), confidence=0.2, lift=6.25)]),\n",
              " RelationRecord(items=frozenset({'Allegiant', 'Be Cool'}), support=0.005, ordered_statistics=[OrderedStatistic(items_base=frozenset({'Be Cool'}), items_add=frozenset({'Allegiant'}), confidence=0.2272727272727273, lift=6.4935064935064934)]),\n",
              " RelationRecord(items=frozenset({'Alvin and the Chipmunks: The Squeakquel', 'Sucker Punch'}), support=0.005, ordered_statistics=[OrderedStatistic(items_base=frozenset({'Sucker Punch'}), items_add=frozenset({'Alvin and the Chipmunks: The Squeakquel'}), confidence=0.2173913043478261, lift=7.763975155279503)]),\n",
              " RelationRecord(items=frozenset({'Fantastic Four', 'American Gangster'}), support=0.007, ordered_statistics=[OrderedStatistic(items_base=frozenset({'American Gangster'}), items_add=frozenset({'Fantastic Four'}), confidence=0.21212121212121213, lift=3.5353535353535355)]),\n",
              " RelationRecord(items=frozenset({'The Legend of Tarzan', 'Armageddon'}), support=0.005, ordered_statistics=[OrderedStatistic(items_base=frozenset({'Armageddon'}), items_add=frozenset({'The Legend of Tarzan'}), confidence=0.20833333333333334, lift=4.0849673202614385)]),\n",
              " RelationRecord(items=frozenset({'Teenage Mutant Ninja Turtles: Out of the Shadows', 'Around the World in 80 Days'}), support=0.005, ordered_statistics=[OrderedStatistic(items_base=frozenset({'Around the World in 80 Days'}), items_add=frozenset({'Teenage Mutant Ninja Turtles: Out of the Shadows'}), confidence=0.2173913043478261, lift=6.03864734299517)]),\n",
              " RelationRecord(items=frozenset({'Asterix at the Olympic Games', 'The Tale of Despereaux'}), support=0.005, ordered_statistics=[OrderedStatistic(items_base=frozenset({'The Tale of Despereaux'}), items_add=frozenset({'Asterix at the Olympic Games'}), confidence=0.2272727272727273, lift=5.285412262156449)]),\n",
              " RelationRecord(items=frozenset({'U-571', 'Australia'}), support=0.006, ordered_statistics=[OrderedStatistic(items_base=frozenset({'Australia'}), items_add=frozenset({'U-571'}), confidence=0.23076923076923078, lift=6.237006237006238)]),\n",
              " RelationRecord(items=frozenset({'Bad Company', 'Shutter Island'}), support=0.004, ordered_statistics=[OrderedStatistic(items_base=frozenset({'Shutter Island'}), items_add=frozenset({'Bad Company'}), confidence=0.2, lift=6.666666666666667)]),\n",
              " RelationRecord(items=frozenset({'Sex and the City 2', 'Bandits'}), support=0.004, ordered_statistics=[OrderedStatistic(items_base=frozenset({'Sex and the City 2'}), items_add=frozenset({'Bandits'}), confidence=0.2105263157894737, lift=6.379585326953748)]),\n",
              " RelationRecord(items=frozenset({'The Last Castle', 'Basic Instinct 2'}), support=0.005, ordered_statistics=[OrderedStatistic(items_base=frozenset({'The Last Castle'}), items_add=frozenset({'Basic Instinct 2'}), confidence=0.2272727272727273, lift=7.331378299120235)]),\n",
              " RelationRecord(items=frozenset({'Event Horizon', 'Batman Forever'}), support=0.003, ordered_statistics=[OrderedStatistic(items_base=frozenset({'Event Horizon'}), items_add=frozenset({'Batman Forever'}), confidence=0.2, lift=5.555555555555556)]),\n",
              " RelationRecord(items=frozenset({'Battle Los Angeles', 'Tropic Thunder'}), support=0.006, ordered_statistics=[OrderedStatistic(items_base=frozenset({'Battle Los Angeles'}), items_add=frozenset({'Tropic Thunder'}), confidence=0.20689655172413793, lift=5.305039787798409)]),\n",
              " RelationRecord(items=frozenset({'Battleship', 'Pan'}), support=0.007, ordered_statistics=[OrderedStatistic(items_base=frozenset({'Battleship'}), items_add=frozenset({'Pan'}), confidence=0.21212121212121213, lift=3.165988240615106)]),\n",
              " RelationRecord(items=frozenset({'Godzilla Resurgence', 'Bedtime Stories'}), support=0.004, ordered_statistics=[OrderedStatistic(items_base=frozenset({'Bedtime Stories'}), items_add=frozenset({'Godzilla Resurgence'}), confidence=0.26666666666666666, lift=4.938271604938271)]),\n",
              " RelationRecord(items=frozenset({'Goosebumps', 'Bedtime Stories'}), support=0.004, ordered_statistics=[OrderedStatistic(items_base=frozenset({'Bedtime Stories'}), items_add=frozenset({'Goosebumps'}), confidence=0.26666666666666666, lift=10.256410256410257)]),\n",
              " RelationRecord(items=frozenset({'Jack and Jill', 'Bedtime Stories'}), support=0.003, ordered_statistics=[OrderedStatistic(items_base=frozenset({'Bedtime Stories'}), items_add=frozenset({'Jack and Jill'}), confidence=0.2, lift=5.714285714285714)]),\n",
              " RelationRecord(items=frozenset({'Monkeybone', 'Bedtime Stories'}), support=0.003, ordered_statistics=[OrderedStatistic(items_base=frozenset({'Bedtime Stories'}), items_add=frozenset({'Monkeybone'}), confidence=0.2, lift=5.714285714285714)]),\n",
              " RelationRecord(items=frozenset({'Red Tails', 'Bedtime Stories'}), support=0.003, ordered_statistics=[OrderedStatistic(items_base=frozenset({'Bedtime Stories'}), items_add=frozenset({'Red Tails'}), confidence=0.2, lift=6.8965517241379315)]),\n",
              " RelationRecord(items=frozenset({'Bedtime Stories', 'Righteous Kill'}), support=0.003, ordered_statistics=[OrderedStatistic(items_base=frozenset({'Bedtime Stories'}), items_add=frozenset({'Righteous Kill'}), confidence=0.2, lift=7.142857142857143)]),\n",
              " RelationRecord(items=frozenset({'Son of the Mask', 'Bedtime Stories'}), support=0.003, ordered_statistics=[OrderedStatistic(items_base=frozenset({'Bedtime Stories'}), items_add=frozenset({'Son of the Mask'}), confidence=0.2, lift=4.651162790697675)]),\n",
              " RelationRecord(items=frozenset({'Superman II', 'Bedtime Stories'}), support=0.003, ordered_statistics=[OrderedStatistic(items_base=frozenset({'Bedtime Stories'}), items_add=frozenset({'Superman II'}), confidence=0.2, lift=4.878048780487805)]),\n",
              " RelationRecord(items=frozenset({'Superman Returns', 'Bedtime Stories'}), support=0.003, ordered_statistics=[OrderedStatistic(items_base=frozenset({'Bedtime Stories'}), items_add=frozenset({'Superman Returns'}), confidence=0.2, lift=6.25)]),\n",
              " RelationRecord(items=frozenset({'Talladega Nights: The Ballad of Ricky Bobby', 'Bedtime Stories'}), support=0.003, ordered_statistics=[OrderedStatistic(items_base=frozenset({'Bedtime Stories'}), items_add=frozenset({'Talladega Nights: The Ballad of Ricky Bobby'}), confidence=0.2, lift=6.25)]),\n",
              " RelationRecord(items=frozenset({'The Dark Knight', 'Bedtime Stories'}), support=0.003, ordered_statistics=[OrderedStatistic(items_base=frozenset({'Bedtime Stories'}), items_add=frozenset({'The Dark Knight'}), confidence=0.2, lift=5.88235294117647)]),\n",
              " RelationRecord(items=frozenset({'The Missing', 'Bedtime Stories'}), support=0.003, ordered_statistics=[OrderedStatistic(items_base=frozenset({'Bedtime Stories'}), items_add=frozenset({'The Missing'}), confidence=0.2, lift=7.692307692307693)]),\n",
              " RelationRecord(items=frozenset({'The Prince of Egypt', 'Bedtime Stories'}), support=0.003, ordered_statistics=[OrderedStatistic(items_base=frozenset({'Bedtime Stories'}), items_add=frozenset({'The Prince of Egypt'}), confidence=0.2, lift=9.090909090909092)]),\n",
              " RelationRecord(items=frozenset({'Vanilla Sky', 'Bedtime Stories'}), support=0.003, ordered_statistics=[OrderedStatistic(items_base=frozenset({'Bedtime Stories'}), items_add=frozenset({'Vanilla Sky'}), confidence=0.2, lift=5.0)]),\n",
              " RelationRecord(items=frozenset({'Wall Street: Money Never Sleeps', 'Bedtime Stories'}), support=0.003, ordered_statistics=[OrderedStatistic(items_base=frozenset({'Bedtime Stories'}), items_add=frozenset({'Wall Street: Money Never Sleeps'}), confidence=0.2, lift=6.451612903225807)]),\n",
              " RelationRecord(items=frozenset({'Forrest Gump', 'Beverly Hills Cop III'}), support=0.004, ordered_statistics=[OrderedStatistic(items_base=frozenset({'Beverly Hills Cop III'}), items_add=frozenset({'Forrest Gump'}), confidence=0.2, lift=7.407407407407408)]),\n",
              " RelationRecord(items=frozenset({'Beverly Hills Cop III', 'Timeline'}), support=0.004, ordered_statistics=[OrderedStatistic(items_base=frozenset({'Beverly Hills Cop III'}), items_add=frozenset({'Timeline'}), confidence=0.2, lift=5.128205128205129)]),\n",
              " RelationRecord(items=frozenset({'Zathura: A Space Adventure', 'Big Hero 6'}), support=0.006, ordered_statistics=[OrderedStatistic(items_base=frozenset({'Zathura: A Space Adventure'}), items_add=frozenset({'Big Hero 6'}), confidence=0.2, lift=6.0606060606060606)]),\n",
              " RelationRecord(items=frozenset({'Black Hawk Down', 'Proof of Life'}), support=0.007, ordered_statistics=[OrderedStatistic(items_base=frozenset({'Proof of Life'}), items_add=frozenset({'Black Hawk Down'}), confidence=0.2692307692307693, lift=7.276507276507278)]),\n",
              " RelationRecord(items=frozenset({'Sherlock Holmes', 'Black Mass'}), support=0.005, ordered_statistics=[OrderedStatistic(items_base=frozenset({'Sherlock Holmes'}), items_add=frozenset({'Black Mass'}), confidence=0.2173913043478261, lift=6.03864734299517)]),\n",
              " RelationRecord(items=frozenset({'Blades of Glory', 'Outbreak'}), support=0.005, ordered_statistics=[OrderedStatistic(items_base=frozenset({'Outbreak'}), items_add=frozenset({'Blades of Glory'}), confidence=0.23809523809523808, lift=7.936507936507937)]),\n",
              " RelationRecord(items=frozenset({'Blades of Glory', 'The Fast and the Furious'}), support=0.007, ordered_statistics=[OrderedStatistic(items_base=frozenset({'Blades of Glory'}), items_add=frozenset({'The Fast and the Furious'}), confidence=0.23333333333333334, lift=4.093567251461988)]),\n",
              " RelationRecord(items=frozenset({'Minority Report', 'Blood Diamond'}), support=0.006, ordered_statistics=[OrderedStatistic(items_base=frozenset({'Blood Diamond'}), items_add=frozenset({'Minority Report'}), confidence=0.24, lift=5.853658536585366)]),\n",
              " RelationRecord(items=frozenset({\"Daddy's Home\", 'Body of Lies'}), support=0.007, ordered_statistics=[OrderedStatistic(items_base=frozenset({'Body of Lies'}), items_add=frozenset({\"Daddy's Home\"}), confidence=0.2692307692307693, lift=9.283819628647215), OrderedStatistic(items_base=frozenset({\"Daddy's Home\"}), items_add=frozenset({'Body of Lies'}), confidence=0.24137931034482757, lift=9.283819628647215)]),\n",
              " RelationRecord(items=frozenset({'How to Lose a Guy in 10 Days', 'Bowfinger'}), support=0.005, ordered_statistics=[OrderedStatistic(items_base=frozenset({'How to Lose a Guy in 10 Days'}), items_add=frozenset({'Bowfinger'}), confidence=0.20833333333333334, lift=5.208333333333333)]),\n",
              " RelationRecord(items=frozenset({'Inside Man', 'Bowfinger'}), support=0.006, ordered_statistics=[OrderedStatistic(items_base=frozenset({'Inside Man'}), items_add=frozenset({'Bowfinger'}), confidence=0.20689655172413793, lift=5.172413793103448)]),\n",
              " RelationRecord(items=frozenset({'Elektra', 'Broken Arrow'}), support=0.006, ordered_statistics=[OrderedStatistic(items_base=frozenset({'Elektra'}), items_add=frozenset({'Broken Arrow'}), confidence=0.24, lift=6.666666666666667)]),\n",
              " RelationRecord(items=frozenset({'Lost in Space', 'Broken Arrow'}), support=0.005, ordered_statistics=[OrderedStatistic(items_base=frozenset({'Lost in Space'}), items_add=frozenset({'Broken Arrow'}), confidence=0.20833333333333334, lift=5.787037037037038)]),\n",
              " RelationRecord(items=frozenset({'Ice Age: Continental Drift', 'Bullet to the Head'}), support=0.005, ordered_statistics=[OrderedStatistic(items_base=frozenset({'Bullet to the Head'}), items_add=frozenset({'Ice Age: Continental Drift'}), confidence=0.2272727272727273, lift=6.4935064935064934)]),\n",
              " RelationRecord(items=frozenset({'Due Date', \"Captain Corelli's Mandolin\"}), support=0.005, ordered_statistics=[OrderedStatistic(items_base=frozenset({\"Captain Corelli's Mandolin\"}), items_add=frozenset({'Due Date'}), confidence=0.2173913043478261, lift=5.875440658049355)]),\n",
              " RelationRecord(items=frozenset({'Fantastic Four', 'Captain Phillips'}), support=0.004, ordered_statistics=[OrderedStatistic(items_base=frozenset({'Captain Phillips'}), items_add=frozenset({'Fantastic Four'}), confidence=0.2, lift=3.3333333333333335)]),\n",
              " RelationRecord(items=frozenset({'Captain Phillips', 'We Bought a Zoo'}), support=0.004, ordered_statistics=[OrderedStatistic(items_base=frozenset({'Captain Phillips'}), items_add=frozenset({'We Bought a Zoo'}), confidence=0.2, lift=5.555555555555556)]),\n",
              " RelationRecord(items=frozenset({'Casino', \"Daddy's Home\"}), support=0.006, ordered_statistics=[OrderedStatistic(items_base=frozenset({\"Daddy's Home\"}), items_add=frozenset({'Casino'}), confidence=0.20689655172413793, lift=6.085192697768762)]),\n",
              " RelationRecord(items=frozenset({'Rock of Ages', 'Casino Royale'}), support=0.006, ordered_statistics=[OrderedStatistic(items_base=frozenset({'Rock of Ages'}), items_add=frozenset({'Casino Royale'}), confidence=0.2, lift=6.25)]),\n",
              " RelationRecord(items=frozenset({\"Charlie Wilson's War\", 'Face/Off'}), support=0.005, ordered_statistics=[OrderedStatistic(items_base=frozenset({'Face/Off'}), items_add=frozenset({\"Charlie Wilson's War\"}), confidence=0.20833333333333334, lift=6.313131313131313)]),\n",
              " RelationRecord(items=frozenset({'Monsters, Inc.', 'City of Angels'}), support=0.005, ordered_statistics=[OrderedStatistic(items_base=frozenset({'City of Angels'}), items_add=frozenset({'Monsters, Inc.'}), confidence=0.2272727272727273, lift=9.881422924901187), OrderedStatistic(items_base=frozenset({'Monsters, Inc.'}), items_add=frozenset({'City of Angels'}), confidence=0.2173913043478261, lift=9.881422924901187)]),\n",
              " RelationRecord(items=frozenset({'Patch Adams', 'Clear and Present Danger'}), support=0.004, ordered_statistics=[OrderedStatistic(items_base=frozenset({'Clear and Present Danger'}), items_add=frozenset({'Patch Adams'}), confidence=0.2, lift=5.555555555555556)]),\n",
              " RelationRecord(items=frozenset({'Collateral', 'Event Horizon'}), support=0.003, ordered_statistics=[OrderedStatistic(items_base=frozenset({'Event Horizon'}), items_add=frozenset({'Collateral'}), confidence=0.2, lift=6.25)]),\n",
              " RelationRecord(items=frozenset({'Collateral Damage', 'Prince of Persia: The Sands of Time'}), support=0.005, ordered_statistics=[OrderedStatistic(items_base=frozenset({'Prince of Persia: The Sands of Time'}), items_add=frozenset({'Collateral Damage'}), confidence=0.2173913043478261, lift=5.875440658049355)]),\n",
              " RelationRecord(items=frozenset({'Con Air', 'National Treasure'}), support=0.006, ordered_statistics=[OrderedStatistic(items_base=frozenset({'National Treasure'}), items_add=frozenset({'Con Air'}), confidence=0.20689655172413793, lift=5.172413793103448)]),\n",
              " RelationRecord(items=frozenset({'Raising Helen', 'Conspiracy Theory'}), support=0.006, ordered_statistics=[OrderedStatistic(items_base=frozenset({'Raising Helen'}), items_add=frozenset({'Conspiracy Theory'}), confidence=0.2, lift=5.405405405405406)]),\n",
              " RelationRecord(items=frozenset({'Deep Impact', 'Coraline'}), support=0.006, ordered_statistics=[OrderedStatistic(items_base=frozenset({'Deep Impact'}), items_add=frozenset({'Coraline'}), confidence=0.21428571428571427, lift=5.639097744360902)]),\n",
              " RelationRecord(items=frozenset({\"Daddy's Home\", 'Sex and the City'}), support=0.006, ordered_statistics=[OrderedStatistic(items_base=frozenset({\"Daddy's Home\"}), items_add=frozenset({'Sex and the City'}), confidence=0.20689655172413793, lift=6.674082313681868)]),\n",
              " RelationRecord(items=frozenset({'Oblivion', 'Daredevil'}), support=0.004, ordered_statistics=[OrderedStatistic(items_base=frozenset({'Daredevil'}), items_add=frozenset({'Oblivion'}), confidence=0.2, lift=6.8965517241379315)]),\n",
              " RelationRecord(items=frozenset({'The Simpsons Movie', 'Daredevil'}), support=0.004, ordered_statistics=[OrderedStatistic(items_base=frozenset({'Daredevil'}), items_add=frozenset({'The Simpsons Movie'}), confidence=0.2, lift=4.878048780487805)]),\n",
              " RelationRecord(items=frozenset({'Days of Thunder', 'Interstellar'}), support=0.005, ordered_statistics=[OrderedStatistic(items_base=frozenset({'Interstellar'}), items_add=frozenset({'Days of Thunder'}), confidence=0.20833333333333334, lift=6.720430107526882)]),\n",
              " RelationRecord(items=frozenset({'Deadpool', 'Godzilla Resurgence'}), support=0.006, ordered_statistics=[OrderedStatistic(items_base=frozenset({'Deadpool'}), items_add=frozenset({'Godzilla Resurgence'}), confidence=0.22222222222222224, lift=4.11522633744856)]),\n",
              " RelationRecord(items=frozenset({'Deck the Halls', 'Lady in the Water'}), support=0.005, ordered_statistics=[OrderedStatistic(items_base=frozenset({'Lady in the Water'}), items_add=frozenset({'Deck the Halls'}), confidence=0.23809523809523808, lift=8.503401360544217)]),\n",
              " RelationRecord(items=frozenset({'Deck the Halls', 'The Avengers'}), support=0.007, ordered_statistics=[OrderedStatistic(items_base=frozenset({'Deck the Halls'}), items_add=frozenset({'The Avengers'}), confidence=0.25, lift=3.9682539682539684)]),\n",
              " RelationRecord(items=frozenset({'Deep Blue Sea', 'Event Horizon'}), support=0.003, ordered_statistics=[OrderedStatistic(items_base=frozenset({'Event Horizon'}), items_add=frozenset({'Deep Blue Sea'}), confidence=0.2, lift=6.0606060606060606)]),\n",
              " RelationRecord(items=frozenset({'Deep Impact', 'The BFG'}), support=0.004, ordered_statistics=[OrderedStatistic(items_base=frozenset({'The BFG'}), items_add=frozenset({'Deep Impact'}), confidence=0.2, lift=7.142857142857143)]),\n",
              " RelationRecord(items=frozenset({'Where the Wild Things Are', 'Dinosaur'}), support=0.006, ordered_statistics=[OrderedStatistic(items_base=frozenset({'Dinosaur'}), items_add=frozenset({'Where the Wild Things Are'}), confidence=0.23076923076923078, lift=6.4102564102564115)]),\n",
              " RelationRecord(items=frozenset({'Divergent', 'The Hunchback of Notre Dame'}), support=0.004, ordered_statistics=[OrderedStatistic(items_base=frozenset({'The Hunchback of Notre Dame'}), items_add=frozenset({'Divergent'}), confidence=0.2, lift=6.451612903225807)]),\n",
              " RelationRecord(items=frozenset({'X-Men: Apocalypse', 'Domestic Disturbance'}), support=0.005, ordered_statistics=[OrderedStatistic(items_base=frozenset({'X-Men: Apocalypse'}), items_add=frozenset({'Domestic Disturbance'}), confidence=0.2173913043478261, lift=7.012622720897617)]),\n",
              " RelationRecord(items=frozenset({'Happy Feet 2', 'Doom'}), support=0.004, ordered_statistics=[OrderedStatistic(items_base=frozenset({'Happy Feet 2'}), items_add=frozenset({'Doom'}), confidence=0.2, lift=7.692307692307693)]),\n",
              " RelationRecord(items=frozenset({'Doom', \"Harry Potter and the Sorcerer's Stone\"}), support=0.006, ordered_statistics=[OrderedStatistic(items_base=frozenset({'Doom'}), items_add=frozenset({\"Harry Potter and the Sorcerer's Stone\"}), confidence=0.23076923076923078, lift=5.769230769230769)]),\n",
              " RelationRecord(items=frozenset({'Dr. Dolittle 2', 'Independence Day: Resurgence'}), support=0.005, ordered_statistics=[OrderedStatistic(items_base=frozenset({'Dr. Dolittle 2'}), items_add=frozenset({'Independence Day: Resurgence'}), confidence=0.2272727272727273, lift=5.411255411255412)]),\n",
              " RelationRecord(items=frozenset({'Jack Reacher', 'Dr. Dolittle 2'}), support=0.004, ordered_statistics=[OrderedStatistic(items_base=frozenset({'Jack Reacher'}), items_add=frozenset({'Dr. Dolittle 2'}), confidence=0.2, lift=9.090909090909092)]),\n",
              " RelationRecord(items=frozenset({'Hansel & Gretel: Witch Hunters', 'Dragon Blade'}), support=0.004, ordered_statistics=[OrderedStatistic(items_base=frozenset({'Hansel & Gretel: Witch Hunters'}), items_add=frozenset({'Dragon Blade'}), confidence=0.2, lift=5.128205128205129)]),\n",
              " RelationRecord(items=frozenset({'The Adjustment Bureau', 'Dreamcatcher'}), support=0.004, ordered_statistics=[OrderedStatistic(items_base=frozenset({'Dreamcatcher'}), items_add=frozenset({'The Adjustment Bureau'}), confidence=0.2105263157894737, lift=6.578947368421053)]),\n",
              " RelationRecord(items=frozenset({'Dreamcatcher', 'Walking Tall'}), support=0.004, ordered_statistics=[OrderedStatistic(items_base=frozenset({'Dreamcatcher'}), items_add=frozenset({'Walking Tall'}), confidence=0.2105263157894737, lift=7.518796992481203)]),\n",
              " RelationRecord(items=frozenset({'Dreamgirls', 'The Avengers'}), support=0.006, ordered_statistics=[OrderedStatistic(items_base=frozenset({'Dreamgirls'}), items_add=frozenset({'The Avengers'}), confidence=0.25, lift=3.9682539682539684)]),\n",
              " RelationRecord(items=frozenset({'Hook', 'Elizabeth: The Golden Age'}), support=0.006, ordered_statistics=[OrderedStatistic(items_base=frozenset({'Hook'}), items_add=frozenset({'Elizabeth: The Golden Age'}), confidence=0.22222222222222224, lift=6.17283950617284)]),\n",
              " RelationRecord(items=frozenset({'The Golden Compass', 'Elysium'}), support=0.003, ordered_statistics=[OrderedStatistic(items_base=frozenset({'The Golden Compass'}), items_add=frozenset({'Elysium'}), confidence=0.21428571428571427, lift=6.30252100840336)]),\n",
              " RelationRecord(items=frozenset({'The Taking of Pelham 1 2 3', 'Enchanted'}), support=0.005, ordered_statistics=[OrderedStatistic(items_base=frozenset({'The Taking of Pelham 1 2 3'}), items_add=frozenset({'Enchanted'}), confidence=0.20833333333333334, lift=8.333333333333334)]),\n",
              " RelationRecord(items=frozenset({'The Phantom of the Opera', \"Ender's Game\"}), support=0.005, ordered_statistics=[OrderedStatistic(items_base=frozenset({'The Phantom of the Opera'}), items_add=frozenset({\"Ender's Game\"}), confidence=0.20833333333333334, lift=5.952380952380952)]),\n",
              " RelationRecord(items=frozenset({'Pan', 'Eraser'}), support=0.005, ordered_statistics=[OrderedStatistic(items_base=frozenset({'Eraser'}), items_add=frozenset({'Pan'}), confidence=0.2173913043478261, lift=3.2446463335496434)]),\n",
              " RelationRecord(items=frozenset({'Evolution', 'Event Horizon'}), support=0.003, ordered_statistics=[OrderedStatistic(items_base=frozenset({'Event Horizon'}), items_add=frozenset({'Evolution'}), confidence=0.2, lift=5.128205128205129)]),\n",
              " RelationRecord(items=frozenset({'Fantasia 2000', 'Event Horizon'}), support=0.003, ordered_statistics=[OrderedStatistic(items_base=frozenset({'Event Horizon'}), items_add=frozenset({'Fantasia 2000'}), confidence=0.2, lift=7.692307692307693)]),\n",
              " RelationRecord(items=frozenset({'Godzilla Resurgence', 'Event Horizon'}), support=0.003, ordered_statistics=[OrderedStatistic(items_base=frozenset({'Event Horizon'}), items_add=frozenset({'Godzilla Resurgence'}), confidence=0.2, lift=3.703703703703704)]),\n",
              " RelationRecord(items=frozenset({'I Spy', 'Event Horizon'}), support=0.003, ordered_statistics=[OrderedStatistic(items_base=frozenset({'Event Horizon'}), items_add=frozenset({'I Spy'}), confidence=0.2, lift=4.761904761904762)]),\n",
              " RelationRecord(items=frozenset({'Lara Croft: Tomb Raider', 'Event Horizon'}), support=0.003, ordered_statistics=[OrderedStatistic(items_base=frozenset({'Event Horizon'}), items_add=frozenset({'Lara Croft: Tomb Raider'}), confidence=0.2, lift=6.8965517241379315)]),\n",
              " RelationRecord(items=frozenset({'Teenage Mutant Ninja Turtles: Out of the Shadows', 'Event Horizon'}), support=0.003, ordered_statistics=[OrderedStatistic(items_base=frozenset({'Event Horizon'}), items_add=frozenset({'Teenage Mutant Ninja Turtles: Out of the Shadows'}), confidence=0.2, lift=5.555555555555556)]),\n",
              " RelationRecord(items=frozenset({'The Legend of Tarzan', 'Event Horizon'}), support=0.003, ordered_statistics=[OrderedStatistic(items_base=frozenset({'Event Horizon'}), items_add=frozenset({'The Legend of Tarzan'}), confidence=0.2, lift=3.9215686274509807)]),\n",
              " RelationRecord(items=frozenset({'Hollywood Homicide', 'Exodus: Gods and Kings'}), support=0.005, ordered_statistics=[OrderedStatistic(items_base=frozenset({'Exodus: Gods and Kings'}), items_add=frozenset({'Hollywood Homicide'}), confidence=0.23809523809523808, lift=9.523809523809522)]),\n",
              " RelationRecord(items=frozenset({'Safe House', 'Failure to Launch'}), support=0.008, ordered_statistics=[OrderedStatistic(items_base=frozenset({'Failure to Launch'}), items_add=frozenset({'Safe House'}), confidence=0.23529411764705882, lift=8.403361344537815), OrderedStatistic(items_base=frozenset({'Safe House'}), items_add=frozenset({'Failure to Launch'}), confidence=0.2857142857142857, lift=8.403361344537814)]),\n",
              " RelationRecord(items=frozenset({'Fantastic Four', 'Home on the Range'}), support=0.008, ordered_statistics=[OrderedStatistic(items_base=frozenset({'Home on the Range'}), items_add=frozenset({'Fantastic Four'}), confidence=0.23529411764705882, lift=3.9215686274509807)]),\n",
              " RelationRecord(items=frozenset({'Fantastic Four', 'Jurassic Park III'}), support=0.004, ordered_statistics=[OrderedStatistic(items_base=frozenset({'Jurassic Park III'}), items_add=frozenset({'Fantastic Four'}), confidence=0.2, lift=3.3333333333333335)]),\n",
              " RelationRecord(items=frozenset({'Fantastic Four', \"Mr. Popper's Penguins\"}), support=0.008, ordered_statistics=[OrderedStatistic(items_base=frozenset({\"Mr. Popper's Penguins\"}), items_add=frozenset({'Fantastic Four'}), confidence=0.25806451612903225, lift=4.301075268817204)]),\n",
              " RelationRecord(items=frozenset({'Fight Club', 'My Favorite Martian'}), support=0.005, ordered_statistics=[OrderedStatistic(items_base=frozenset({'Fight Club'}), items_add=frozenset({'My Favorite Martian'}), confidence=0.2173913043478261, lift=8.051529790660226)]),\n",
              " RelationRecord(items=frozenset({'Lucky You', 'Finding Nemo'}), support=0.004, ordered_statistics=[OrderedStatistic(items_base=frozenset({'Lucky You'}), items_add=frozenset({'Finding Nemo'}), confidence=0.22222222222222224, lift=9.25925925925926)]),\n",
              " RelationRecord(items=frozenset({'Firewall', 'Ice Age: Continental Drift'}), support=0.004, ordered_statistics=[OrderedStatistic(items_base=frozenset({'Firewall'}), items_add=frozenset({'Ice Age: Continental Drift'}), confidence=0.2, lift=5.714285714285714)]),\n",
              " RelationRecord(items=frozenset({'Pacific Rim', 'Firewall'}), support=0.004, ordered_statistics=[OrderedStatistic(items_base=frozenset({'Firewall'}), items_add=frozenset({'Pacific Rim'}), confidence=0.2, lift=7.142857142857143)]),\n",
              " RelationRecord(items=frozenset({\"The Sorcerer's Apprentice\", 'Fury'}), support=0.006, ordered_statistics=[OrderedStatistic(items_base=frozenset({'Fury'}), items_add=frozenset({\"The Sorcerer's Apprentice\"}), confidence=0.22222222222222224, lift=6.17283950617284)]),\n",
              " RelationRecord(items=frozenset({'Joy', 'Garfield'}), support=0.004, ordered_statistics=[OrderedStatistic(items_base=frozenset({'Garfield'}), items_add=frozenset({'Joy'}), confidence=0.2, lift=6.666666666666667)]),\n",
              " RelationRecord(items=frozenset({'Lolita', 'Garfield'}), support=0.004, ordered_statistics=[OrderedStatistic(items_base=frozenset({'Garfield'}), items_add=frozenset({'Lolita'}), confidence=0.2, lift=6.25)]),\n",
              " RelationRecord(items=frozenset({'The Scorpion King', 'Garfield'}), support=0.005, ordered_statistics=[OrderedStatistic(items_base=frozenset({'Garfield'}), items_add=frozenset({'The Scorpion King'}), confidence=0.25, lift=6.944444444444445)]),\n",
              " RelationRecord(items=frozenset({'Gigli', 'The Jackal'}), support=0.007, ordered_statistics=[OrderedStatistic(items_base=frozenset({'Gigli'}), items_add=frozenset({'The Jackal'}), confidence=0.21212121212121213, lift=4.611330698287221)]),\n",
              " RelationRecord(items=frozenset({'Resident Evil: Afterlife', 'Godzilla Resurgence'}), support=0.007, ordered_statistics=[OrderedStatistic(items_base=frozenset({'Resident Evil: Afterlife'}), items_add=frozenset({'Godzilla Resurgence'}), confidence=0.21212121212121213, lift=3.928170594837262)]),\n",
              " RelationRecord(items=frozenset({'Godzilla Resurgence', 'San Andreas'}), support=0.006, ordered_statistics=[OrderedStatistic(items_base=frozenset({'San Andreas'}), items_add=frozenset({'Godzilla Resurgence'}), confidence=0.23076923076923078, lift=4.273504273504273)]),\n",
              " RelationRecord(items=frozenset({'Godzilla Resurgence', 'Treasure Planet'}), support=0.007, ordered_statistics=[OrderedStatistic(items_base=frozenset({'Treasure Planet'}), items_add=frozenset({'Godzilla Resurgence'}), confidence=0.21875, lift=4.050925925925926)]),\n",
              " RelationRecord(items=frozenset({'Yogi Bear', 'Godzilla Resurgence'}), support=0.004, ordered_statistics=[OrderedStatistic(items_base=frozenset({'Yogi Bear'}), items_add=frozenset({'Godzilla Resurgence'}), confidence=0.2, lift=3.703703703703704)]),\n",
              " RelationRecord(items=frozenset({'Hansel & Gretel: Witch Hunters', 'Percy Jackson & the Olympians: The Lightning Thief'}), support=0.004, ordered_statistics=[OrderedStatistic(items_base=frozenset({'Hansel & Gretel: Witch Hunters'}), items_add=frozenset({'Percy Jackson & the Olympians: The Lightning Thief'}), confidence=0.2, lift=5.555555555555556)]),\n",
              " RelationRecord(items=frozenset({'Happy Feet 2', 'The Lost World: Jurassic Park'}), support=0.004, ordered_statistics=[OrderedStatistic(items_base=frozenset({'Happy Feet 2'}), items_add=frozenset({'The Lost World: Jurassic Park'}), confidence=0.2, lift=6.0606060606060606)]),\n",
              " RelationRecord(items=frozenset({'Happy Feet 2', 'Where the Wild Things Are'}), support=0.004, ordered_statistics=[OrderedStatistic(items_base=frozenset({'Happy Feet 2'}), items_add=frozenset({'Where the Wild Things Are'}), confidence=0.2, lift=5.555555555555556)]),\n",
              " RelationRecord(items=frozenset({'The Edge', 'Harry Potter and the Half-Blood Prince'}), support=0.004, ordered_statistics=[OrderedStatistic(items_base=frozenset({'Harry Potter and the Half-Blood Prince'}), items_add=frozenset({'The Edge'}), confidence=0.2105263157894737, lift=6.191950464396285)]),\n",
              " RelationRecord(items=frozenset({'Step Brothers', 'Hercules'}), support=0.006, ordered_statistics=[OrderedStatistic(items_base=frozenset({'Step Brothers'}), items_add=frozenset({'Hercules'}), confidence=0.20689655172413793, lift=3.2327586206896552)]),\n",
              " RelationRecord(items=frozenset({'The Kingdom', 'Hercules'}), support=0.005, ordered_statistics=[OrderedStatistic(items_base=frozenset({'The Kingdom'}), items_add=frozenset({'Hercules'}), confidence=0.2272727272727273, lift=3.5511363636363638)]),\n",
              " RelationRecord(items=frozenset({'Hercules', 'Treasure Planet'}), support=0.007, ordered_statistics=[OrderedStatistic(items_base=frozenset({'Treasure Planet'}), items_add=frozenset({'Hercules'}), confidence=0.21875, lift=3.41796875)]),\n",
              " RelationRecord(items=frozenset({'The Santa Clause 2', 'Hidalgo'}), support=0.005, ordered_statistics=[OrderedStatistic(items_base=frozenset({'The Santa Clause 2'}), items_add=frozenset({'Hidalgo'}), confidence=0.2173913043478261, lift=6.3938618925831205)]),\n",
              " RelationRecord(items=frozenset({'Hop', 'The Avengers'}), support=0.007, ordered_statistics=[OrderedStatistic(items_base=frozenset({'Hop'}), items_add=frozenset({'The Avengers'}), confidence=0.23333333333333334, lift=3.7037037037037037)]),\n",
              " RelationRecord(items=frozenset({'How Do You Know', 'The Croods'}), support=0.004, ordered_statistics=[OrderedStatistic(items_base=frozenset({'The Croods'}), items_add=frozenset({'How Do You Know'}), confidence=0.2, lift=5.88235294117647)]),\n",
              " RelationRecord(items=frozenset({'Hugo', 'Monkeybone'}), support=0.004, ordered_statistics=[OrderedStatistic(items_base=frozenset({'Hugo'}), items_add=frozenset({'Monkeybone'}), confidence=0.2, lift=5.714285714285714)]),\n",
              " RelationRecord(items=frozenset({'Hugo', 'Wyatt Earp'}), support=0.004, ordered_statistics=[OrderedStatistic(items_base=frozenset({'Hugo'}), items_add=frozenset({'Wyatt Earp'}), confidence=0.2, lift=5.88235294117647)]),\n",
              " RelationRecord(items=frozenset({'I Am Number Four', 'Timeline'}), support=0.006, ordered_statistics=[OrderedStatistic(items_base=frozenset({'I Am Number Four'}), items_add=frozenset({'Timeline'}), confidence=0.20689655172413793, lift=5.305039787798409)]),\n",
              " RelationRecord(items=frozenset({'I Spy', 'Sabrina, the Teenage Witch            '}), support=0.004, ordered_statistics=[OrderedStatistic(items_base=frozenset({'Sabrina, the Teenage Witch            '}), items_add=frozenset({'I Spy'}), confidence=0.2105263157894737, lift=5.012531328320802)]),\n",
              " RelationRecord(items=frozenset({'Independence Day', \"Pirates of the Caribbean: Dead Man's Chest\"}), support=0.006, ordered_statistics=[OrderedStatistic(items_base=frozenset({'Independence Day'}), items_add=frozenset({\"Pirates of the Caribbean: Dead Man's Chest\"}), confidence=0.2, lift=6.0606060606060606)]),\n",
              " RelationRecord(items=frozenset({'Independence Day: Resurgence', 'Monsters vs. Aliens'}), support=0.006, ordered_statistics=[OrderedStatistic(items_base=frozenset({'Monsters vs. Aliens'}), items_add=frozenset({'Independence Day: Resurgence'}), confidence=0.24, lift=5.7142857142857135)]),\n",
              " RelationRecord(items=frozenset({'Interstellar', 'Need for Speed'}), support=0.005, ordered_statistics=[OrderedStatistic(items_base=frozenset({'Interstellar'}), items_add=frozenset({'Need for Speed'}), confidence=0.20833333333333334, lift=5.787037037037038)]),\n",
              " RelationRecord(items=frozenset({'Race to Witch Mountain', 'Invictus'}), support=0.005, ordered_statistics=[OrderedStatistic(items_base=frozenset({'Invictus'}), items_add=frozenset({'Race to Witch Mountain'}), confidence=0.20833333333333334, lift=5.482456140350878)]),\n",
              " RelationRecord(items=frozenset({'Top Cat Begins', 'Invictus'}), support=0.005, ordered_statistics=[OrderedStatistic(items_base=frozenset({'Invictus'}), items_add=frozenset({'Top Cat Begins'}), confidence=0.20833333333333334, lift=7.71604938271605)]),\n",
              " RelationRecord(items=frozenset({'Skyfall', \"It's Complicated\"}), support=0.004, ordered_statistics=[OrderedStatistic(items_base=frozenset({'Skyfall'}), items_add=frozenset({\"It's Complicated\"}), confidence=0.22222222222222224, lift=7.168458781362007)]),\n",
              " RelationRecord(items=frozenset({'The BFG', \"It's Complicated\"}), support=0.004, ordered_statistics=[OrderedStatistic(items_base=frozenset({'The BFG'}), items_add=frozenset({\"It's Complicated\"}), confidence=0.2, lift=6.451612903225807)]),\n",
              " RelationRecord(items=frozenset({'Jack Ryan: Shadow Recruit', 'The Sum of All Fears'}), support=0.006, ordered_statistics=[OrderedStatistic(items_base=frozenset({'The Sum of All Fears'}), items_add=frozenset({'Jack Ryan: Shadow Recruit'}), confidence=0.21428571428571427, lift=5.4945054945054945)]),\n",
              " RelationRecord(items=frozenset({'The Avengers', 'Jason Bourne'}), support=0.006, ordered_statistics=[OrderedStatistic(items_base=frozenset({'Jason Bourne'}), items_add=frozenset({'The Avengers'}), confidence=0.21428571428571427, lift=3.401360544217687)]),\n",
              " RelationRecord(items=frozenset({'The Wolfman', 'Journey 2: The Mysterious Island'}), support=0.005, ordered_statistics=[OrderedStatistic(items_base=frozenset({'Journey 2: The Mysterious Island'}), items_add=frozenset({'The Wolfman'}), confidence=0.20833333333333334, lift=6.510416666666667)]),\n",
              " RelationRecord(items=frozenset({'The Haunted Mansion', 'Jurassic Park III'}), support=0.004, ordered_statistics=[OrderedStatistic(items_base=frozenset({'Jurassic Park III'}), items_add=frozenset({'The Haunted Mansion'}), confidence=0.2, lift=5.2631578947368425)]),\n",
              " RelationRecord(items=frozenset({'Jurassic Park III', 'Total Recall'}), support=0.004, ordered_statistics=[OrderedStatistic(items_base=frozenset({'Jurassic Park III'}), items_add=frozenset({'Total Recall'}), confidence=0.2, lift=3.4482758620689657)]),\n",
              " RelationRecord(items=frozenset({'Rush Hour 2', 'Jurassic World'}), support=0.005, ordered_statistics=[OrderedStatistic(items_base=frozenset({'Rush Hour 2'}), items_add=frozenset({'Jurassic World'}), confidence=0.2173913043478261, lift=4.6253469010175765)]),\n",
              " RelationRecord(items=frozenset({'The BFG', 'Jurassic World'}), support=0.004, ordered_statistics=[OrderedStatistic(items_base=frozenset({'The BFG'}), items_add=frozenset({'Jurassic World'}), confidence=0.2, lift=4.25531914893617)]),\n",
              " RelationRecord(items=frozenset({'The Incredibles', 'Jurassic World'}), support=0.004, ordered_statistics=[OrderedStatistic(items_base=frozenset({'The Incredibles'}), items_add=frozenset({'Jurassic World'}), confidence=0.2, lift=4.25531914893617)]),\n",
              " RelationRecord(items=frozenset({'Just Like Heaven', 'Reign of Fire'}), support=0.007, ordered_statistics=[OrderedStatistic(items_base=frozenset({'Just Like Heaven'}), items_add=frozenset({'Reign of Fire'}), confidence=0.22580645161290322, lift=6.8426197458455515), OrderedStatistic(items_base=frozenset({'Reign of Fire'}), items_add=frozenset({'Just Like Heaven'}), confidence=0.21212121212121213, lift=6.842619745845552)]),\n",
              " RelationRecord(items=frozenset({'WALL·E', 'Knowing'}), support=0.007, ordered_statistics=[OrderedStatistic(items_base=frozenset({'WALL·E'}), items_add=frozenset({'Knowing'}), confidence=0.3333333333333333, lift=8.333333333333332)]),\n",
              " RelationRecord(items=frozenset({'X-Men: The Last Stand', 'Lady in the Water'}), support=0.005, ordered_statistics=[OrderedStatistic(items_base=frozenset({'Lady in the Water'}), items_add=frozenset({'X-Men: The Last Stand'}), confidence=0.23809523809523808, lift=6.613756613756614)]),\n",
              " RelationRecord(items=frozenset({'Last Man Standing', 'State of Play'}), support=0.008, ordered_statistics=[OrderedStatistic(items_base=frozenset({'Last Man Standing'}), items_add=frozenset({'State of Play'}), confidence=0.24242424242424243, lift=7.575757575757576), OrderedStatistic(items_base=frozenset({'State of Play'}), items_add=frozenset({'Last Man Standing'}), confidence=0.25, lift=7.575757575757575)]),\n",
              " RelationRecord(items=frozenset({'The Twilight Saga: Breaking Dawn - Part 2', 'Life'}), support=0.007, ordered_statistics=[OrderedStatistic(items_base=frozenset({'Life'}), items_add=frozenset({'The Twilight Saga: Breaking Dawn - Part 2'}), confidence=0.25, lift=3.4246575342465757)]),\n",
              " RelationRecord(items=frozenset({'The Last Legion', 'Little Nicky'}), support=0.006, ordered_statistics=[OrderedStatistic(items_base=frozenset({'The Last Legion'}), items_add=frozenset({'Little Nicky'}), confidence=0.21428571428571427, lift=6.1224489795918355)]),\n",
              " RelationRecord(items=frozenset({'The Legend of Bagger Vance', 'London Has Fallen'}), support=0.004, ordered_statistics=[OrderedStatistic(items_base=frozenset({'London Has Fallen'}), items_add=frozenset({'The Legend of Bagger Vance'}), confidence=0.22222222222222224, lift=8.547008547008549)]),\n",
              " RelationRecord(items=frozenset({'Looney Tunes: Back in Action', 'Thor: The Dark World'}), support=0.005, ordered_statistics=[OrderedStatistic(items_base=frozenset({'Looney Tunes: Back in Action'}), items_add=frozenset({'Thor: The Dark World'}), confidence=0.2173913043478261, lift=8.361204013377927)]),\n",
              " RelationRecord(items=frozenset({'Madagascar', 'Sex and the City 2'}), support=0.004, ordered_statistics=[OrderedStatistic(items_base=frozenset({'Sex and the City 2'}), items_add=frozenset({'Madagascar'}), confidence=0.2105263157894737, lift=6.578947368421053)]),\n",
              " RelationRecord(items=frozenset({'Madagascar', 'The Golden Compass'}), support=0.003, ordered_statistics=[OrderedStatistic(items_base=frozenset({'The Golden Compass'}), items_add=frozenset({'Madagascar'}), confidence=0.21428571428571427, lift=6.696428571428571)]),\n",
              " RelationRecord(items=frozenset({'The Dark Knight', 'Maleficent'}), support=0.005, ordered_statistics=[OrderedStatistic(items_base=frozenset({'Maleficent'}), items_add=frozenset({'The Dark Knight'}), confidence=0.20833333333333334, lift=6.127450980392156)]),\n",
              " RelationRecord(items=frozenset({'Supernova', 'Master and Commander: The Far Side of the World'}), support=0.004, ordered_statistics=[OrderedStatistic(items_base=frozenset({'Master and Commander: The Far Side of the World'}), items_add=frozenset({'Supernova'}), confidence=0.2105263157894737, lift=6.191950464396285)]),\n",
              " RelationRecord(items=frozenset({'Ted 2', 'Master and Commander: The Far Side of the World'}), support=0.004, ordered_statistics=[OrderedStatistic(items_base=frozenset({'Master and Commander: The Far Side of the World'}), items_add=frozenset({'Ted 2'}), confidence=0.2105263157894737, lift=6.578947368421053)]),\n",
              " RelationRecord(items=frozenset({'Mission: Impossible - Ghost Protocol', 'We Were Soldiers'}), support=0.007, ordered_statistics=[OrderedStatistic(items_base=frozenset({'Mission: Impossible - Ghost Protocol'}), items_add=frozenset({'We Were Soldiers'}), confidence=0.20588235294117646, lift=5.5643879173290935)]),\n",
              " RelationRecord(items=frozenset({'Monsters University', 'The Chronicles of Narnia: The Voyage of the Dawn Treader'}), support=0.006, ordered_statistics=[OrderedStatistic(items_base=frozenset({'The Chronicles of Narnia: The Voyage of the Dawn Treader'}), items_add=frozenset({'Monsters University'}), confidence=0.22222222222222224, lift=6.5359477124183005)]),\n",
              " RelationRecord(items=frozenset({'Mr. & Mrs. Smith', 'Yogi Bear'}), support=0.004, ordered_statistics=[OrderedStatistic(items_base=frozenset({'Yogi Bear'}), items_add=frozenset({'Mr. & Mrs. Smith'}), confidence=0.2, lift=6.8965517241379315)]),\n",
              " RelationRecord(items=frozenset({'Murder by Numbers', 'The Twilight Saga: Eclipse'}), support=0.006, ordered_statistics=[OrderedStatistic(items_base=frozenset({'The Twilight Saga: Eclipse'}), items_add=frozenset({'Murder by Numbers'}), confidence=0.23076923076923078, lift=6.072874493927126)]),\n",
              " RelationRecord(items=frozenset({\"Ocean's Eleven\", 'Mystery Men'}), support=0.005, ordered_statistics=[OrderedStatistic(items_base=frozenset({'Mystery Men'}), items_add=frozenset({\"Ocean's Eleven\"}), confidence=0.20833333333333334, lift=5.952380952380952)]),\n",
              " RelationRecord(items=frozenset({'Striptease', 'Oblivion'}), support=0.006, ordered_statistics=[OrderedStatistic(items_base=frozenset({'Oblivion'}), items_add=frozenset({'Striptease'}), confidence=0.20689655172413793, lift=5.172413793103448)]),\n",
              " RelationRecord(items=frozenset({'Open Season', 'The BFG'}), support=0.004, ordered_statistics=[OrderedStatistic(items_base=frozenset({'The BFG'}), items_add=frozenset({'Open Season'}), confidence=0.2, lift=5.714285714285714)]),\n",
              " RelationRecord(items=frozenset({'Pirates of the Caribbean: The Curse of the Black Pearl', 'Out of Time'}), support=0.004, ordered_statistics=[OrderedStatistic(items_base=frozenset({'Pirates of the Caribbean: The Curse of the Black Pearl'}), items_add=frozenset({'Out of Time'}), confidence=0.2105263157894737, lift=6.791171477079796)]),\n",
              " RelationRecord(items=frozenset({'Pirates of the Caribbean: The Curse of the Black Pearl', 'The Patriot'}), support=0.004, ordered_statistics=[OrderedStatistic(items_base=frozenset({'Pirates of the Caribbean: The Curse of the Black Pearl'}), items_add=frozenset({'The Patriot'}), confidence=0.2105263157894737, lift=5.84795321637427)]),\n",
              " RelationRecord(items=frozenset({'The Golden Compass', 'Planet 51'}), support=0.003, ordered_statistics=[OrderedStatistic(items_base=frozenset({'The Golden Compass'}), items_add=frozenset({'Planet 51'}), confidence=0.21428571428571427, lift=6.1224489795918355)]),\n",
              " RelationRecord(items=frozenset({'Primary Colors', 'The Man from U.N.C.L.E.'}), support=0.006, ordered_statistics=[OrderedStatistic(items_base=frozenset({'Primary Colors'}), items_add=frozenset({'The Man from U.N.C.L.E.'}), confidence=0.21428571428571427, lift=6.30252100840336)]),\n",
              " RelationRecord(items=frozenset({'Puss in Boots', 'Sucker Punch'}), support=0.005, ordered_statistics=[OrderedStatistic(items_base=frozenset({'Sucker Punch'}), items_add=frozenset({'Puss in Boots'}), confidence=0.2173913043478261, lift=5.574136008918618)]),\n",
              " RelationRecord(items=frozenset({'Sabrina, the Teenage Witch            ', 'Righteous Kill'}), support=0.004, ordered_statistics=[OrderedStatistic(items_base=frozenset({'Sabrina, the Teenage Witch            '}), items_add=frozenset({'Righteous Kill'}), confidence=0.2105263157894737, lift=7.518796992481203)]),\n",
              " RelationRecord(items=frozenset({'Teenage Mutant Ninja Turtles: Out of the Shadows', 'Righteous Kill'}), support=0.006, ordered_statistics=[OrderedStatistic(items_base=frozenset({'Righteous Kill'}), items_add=frozenset({'Teenage Mutant Ninja Turtles: Out of the Shadows'}), confidence=0.21428571428571427, lift=5.9523809523809526)]),\n",
              " RelationRecord(items=frozenset({'Rise of the Guardians', 'Total Recall'}), support=0.007, ordered_statistics=[OrderedStatistic(items_base=frozenset({'Rise of the Guardians'}), items_add=frozenset({'Total Recall'}), confidence=0.22580645161290322, lift=3.89321468298109)]),\n",
              " RelationRecord(items=frozenset({'Rise of the Planet of the Apes', 'Ronin'}), support=0.007, ordered_statistics=[OrderedStatistic(items_base=frozenset({'Rise of the Planet of the Apes'}), items_add=frozenset({'Ronin'}), confidence=0.22580645161290322, lift=5.789909015715467)]),\n",
              " RelationRecord(items=frozenset({'Wanted', 'Ronin'}), support=0.004, ordered_statistics=[OrderedStatistic(items_base=frozenset({'Wanted'}), items_add=frozenset({'Ronin'}), confidence=0.22222222222222224, lift=5.698005698005699)]),\n",
              " RelationRecord(items=frozenset({'Sex and the City 2', 'Stepmom'}), support=0.004, ordered_statistics=[OrderedStatistic(items_base=frozenset({'Sex and the City 2'}), items_add=frozenset({'Stepmom'}), confidence=0.2105263157894737, lift=6.191950464396285)]),\n",
              " RelationRecord(items=frozenset({'Sex and the City 2', 'The Chronicles of Narnia: The Lion, the Witch and the Wardrobe'}), support=0.005, ordered_statistics=[OrderedStatistic(items_base=frozenset({'Sex and the City 2'}), items_add=frozenset({'The Chronicles of Narnia: The Lion, the Witch and the Wardrobe'}), confidence=0.2631578947368421, lift=10.121457489878543)]),\n",
              " RelationRecord(items=frozenset({'Sex and the City 2', 'The Horse Whisperer'}), support=0.004, ordered_statistics=[OrderedStatistic(items_base=frozenset({'Sex and the City 2'}), items_add=frozenset({'The Horse Whisperer'}), confidence=0.2105263157894737, lift=8.097165991902836)]),\n",
              " RelationRecord(items=frozenset({'Sex and the City 2', 'The Legend of Tarzan'}), support=0.004, ordered_statistics=[OrderedStatistic(items_base=frozenset({'Sex and the City 2'}), items_add=frozenset({'The Legend of Tarzan'}), confidence=0.2105263157894737, lift=4.12796697626419)]),\n",
              " RelationRecord(items=frozenset({'Shanghai Knights', 'The Matrix'}), support=0.006, ordered_statistics=[OrderedStatistic(items_base=frozenset({'The Matrix'}), items_add=frozenset({'Shanghai Knights'}), confidence=0.24, lift=6.486486486486487)]),\n",
              " RelationRecord(items=frozenset({'Shooter', 'Spanglish'}), support=0.006, ordered_statistics=[OrderedStatistic(items_base=frozenset({'Shooter'}), items_add=frozenset({'Spanglish'}), confidence=0.22222222222222224, lift=8.23045267489712), OrderedStatistic(items_base=frozenset({'Spanglish'}), items_add=frozenset({'Shooter'}), confidence=0.22222222222222224, lift=8.23045267489712)]),\n",
              " RelationRecord(items=frozenset({'Shooter', 'Superman II'}), support=0.006, ordered_statistics=[OrderedStatistic(items_base=frozenset({'Shooter'}), items_add=frozenset({'Superman II'}), confidence=0.22222222222222224, lift=5.420054200542006)]),\n",
              " RelationRecord(items=frozenset({'Sleepy Hollow', 'Shutter Island'}), support=0.004, ordered_statistics=[OrderedStatistic(items_base=frozenset({'Shutter Island'}), items_add=frozenset({'Sleepy Hollow'}), confidence=0.2, lift=6.666666666666667)]),\n",
              " RelationRecord(items=frozenset({'The BFG', 'Space Cowboys'}), support=0.004, ordered_statistics=[OrderedStatistic(items_base=frozenset({'The BFG'}), items_add=frozenset({'Space Cowboys'}), confidence=0.2, lift=6.451612903225807)]),\n",
              " RelationRecord(items=frozenset({'The Incredibles', 'Star Trek'}), support=0.005, ordered_statistics=[OrderedStatistic(items_base=frozenset({'The Incredibles'}), items_add=frozenset({'Star Trek'}), confidence=0.25, lift=7.142857142857142)]),\n",
              " RelationRecord(items=frozenset({'Star Trek: Nemesis', 'The Fast and the Furious'}), support=0.006, ordered_statistics=[OrderedStatistic(items_base=frozenset({'Star Trek: Nemesis'}), items_add=frozenset({'The Fast and the Furious'}), confidence=0.2, lift=3.5087719298245617)]),\n",
              " RelationRecord(items=frozenset({'The Adjustment Bureau', 'Thor: The Dark World'}), support=0.006, ordered_statistics=[OrderedStatistic(items_base=frozenset({'Thor: The Dark World'}), items_add=frozenset({'The Adjustment Bureau'}), confidence=0.23076923076923078, lift=7.211538461538462)]),\n",
              " RelationRecord(items=frozenset({'The Adventures of Pluto Nash', 'The Twilight Saga: Breaking Dawn - Part 2'}), support=0.007, ordered_statistics=[OrderedStatistic(items_base=frozenset({'The Adventures of Pluto Nash'}), items_add=frozenset({'The Twilight Saga: Breaking Dawn - Part 2'}), confidence=0.22580645161290322, lift=3.093239063190455)]),\n",
              " RelationRecord(items=frozenset({'The Adventures of Rocky & Bullwinkle', 'The Hunger Games: Mockingjay - Part 1'}), support=0.004, ordered_statistics=[OrderedStatistic(items_base=frozenset({'The Adventures of Rocky & Bullwinkle'}), items_add=frozenset({'The Hunger Games: Mockingjay - Part 1'}), confidence=0.2, lift=5.405405405405406)]),\n",
              " RelationRecord(items=frozenset({'The Adventures of Sharkboy and Lavagirl 3-D', 'The Fast and the Furious'}), support=0.006, ordered_statistics=[OrderedStatistic(items_base=frozenset({'The Adventures of Sharkboy and Lavagirl 3-D'}), items_add=frozenset({'The Fast and the Furious'}), confidence=0.22222222222222224, lift=3.8986354775828462)]),\n",
              " RelationRecord(items=frozenset({'The American President', \"You Don't Mess with the Zohan\"}), support=0.005, ordered_statistics=[OrderedStatistic(items_base=frozenset({\"You Don't Mess with the Zohan\"}), items_add=frozenset({'The American President'}), confidence=0.2173913043478261, lift=6.3938618925831205)]),\n",
              " RelationRecord(items=frozenset({'The Hunchback of Notre Dame', 'The Avengers'}), support=0.004, ordered_statistics=[OrderedStatistic(items_base=frozenset({'The Hunchback of Notre Dame'}), items_add=frozenset({'The Avengers'}), confidence=0.2, lift=3.174603174603175)]),\n",
              " RelationRecord(items=frozenset({'The Bourne Identity', 'The Pirates! Band of Misfits'}), support=0.005, ordered_statistics=[OrderedStatistic(items_base=frozenset({'The Bourne Identity'}), items_add=frozenset({'The Pirates! Band of Misfits'}), confidence=0.20833333333333334, lift=7.183908045977011)]),\n",
              " RelationRecord(items=frozenset({'The X Files', 'The Bourne Identity'}), support=0.005, ordered_statistics=[OrderedStatistic(items_base=frozenset({'The Bourne Identity'}), items_add=frozenset({'The X Files'}), confidence=0.20833333333333334, lift=5.08130081300813)]),\n",
              " RelationRecord(items=frozenset({'The Campaign', 'The Siege'}), support=0.004, ordered_statistics=[OrderedStatistic(items_base=frozenset({'The Campaign'}), items_add=frozenset({'The Siege'}), confidence=0.23529411764705882, lift=6.359300476947536)]),\n",
              " RelationRecord(items=frozenset({'The Cat in the Hat', 'X-Men: The Last Stand'}), support=0.005, ordered_statistics=[OrderedStatistic(items_base=frozenset({'The Cat in the Hat'}), items_add=frozenset({'X-Men: The Last Stand'}), confidence=0.20833333333333334, lift=5.787037037037038)]),\n",
              " RelationRecord(items=frozenset({'Yogi Bear', 'The Change-Up'}), support=0.004, ordered_statistics=[OrderedStatistic(items_base=frozenset({'Yogi Bear'}), items_add=frozenset({'The Change-Up'}), confidence=0.2, lift=4.878048780487805)]),\n",
              " RelationRecord(items=frozenset({'War Horse', 'The Chronicles of Riddick'}), support=0.006, ordered_statistics=[OrderedStatistic(items_base=frozenset({'War Horse'}), items_add=frozenset({'The Chronicles of Riddick'}), confidence=0.2, lift=5.714285714285714)]),\n",
              " RelationRecord(items=frozenset({'War of the Worlds', 'The Chronicles of Riddick'}), support=0.004, ordered_statistics=[OrderedStatistic(items_base=frozenset({'War of the Worlds'}), items_add=frozenset({'The Chronicles of Riddick'}), confidence=0.2, lift=5.714285714285714)]),\n",
              " RelationRecord(items=frozenset({'The Da Vinci Code', 'The Expendables 2'}), support=0.006, ordered_statistics=[OrderedStatistic(items_base=frozenset({'The Expendables 2'}), items_add=frozenset({'The Da Vinci Code'}), confidence=0.2, lift=5.405405405405406)]),\n",
              " RelationRecord(items=frozenset({'Xi you ji zhi: Sun Wukong san da Baigu Jing', \"The Emperor's New Groove\"}), support=0.006, ordered_statistics=[OrderedStatistic(items_base=frozenset({'Xi you ji zhi: Sun Wukong san da Baigu Jing'}), items_add=frozenset({\"The Emperor's New Groove\"}), confidence=0.21428571428571427, lift=6.912442396313364)]),\n",
              " RelationRecord(items=frozenset({'The Great Raid', 'The Fast and the Furious'}), support=0.006, ordered_statistics=[OrderedStatistic(items_base=frozenset({'The Great Raid'}), items_add=frozenset({'The Fast and the Furious'}), confidence=0.2, lift=3.5087719298245617)]),\n",
              " RelationRecord(items=frozenset({'We Are Marshall', 'The Ghost and the Darkness'}), support=0.006, ordered_statistics=[OrderedStatistic(items_base=frozenset({'The Ghost and the Darkness'}), items_add=frozenset({'We Are Marshall'}), confidence=0.23076923076923078, lift=7.957559681697613), OrderedStatistic(items_base=frozenset({'We Are Marshall'}), items_add=frozenset({'The Ghost and the Darkness'}), confidence=0.20689655172413793, lift=7.957559681697613)]),\n",
              " RelationRecord(items=frozenset({'The Golden Compass', 'The Haunting'}), support=0.003, ordered_statistics=[OrderedStatistic(items_base=frozenset({'The Golden Compass'}), items_add=frozenset({'The Haunting'}), confidence=0.21428571428571427, lift=6.493506493506493)]),\n",
              " RelationRecord(items=frozenset({'The Golden Compass', 'Tower Heist'}), support=0.003, ordered_statistics=[OrderedStatistic(items_base=frozenset({'The Golden Compass'}), items_add=frozenset({'Tower Heist'}), confidence=0.21428571428571427, lift=5.9523809523809526)]),\n",
              " RelationRecord(items=frozenset({'The Golden Compass', 'Wild Wild West'}), support=0.003, ordered_statistics=[OrderedStatistic(items_base=frozenset({'The Golden Compass'}), items_add=frozenset({'Wild Wild West'}), confidence=0.21428571428571427, lift=7.653061224489796)]),\n",
              " RelationRecord(items=frozenset({'The Hunger Games: Catching Fire', 'Tower Heist'}), support=0.005, ordered_statistics=[OrderedStatistic(items_base=frozenset({'The Hunger Games: Catching Fire'}), items_add=frozenset({'Tower Heist'}), confidence=0.2173913043478261, lift=6.03864734299517)]),\n",
              " RelationRecord(items=frozenset({'The Incredibles', 'Titan A.E.'}), support=0.004, ordered_statistics=[OrderedStatistic(items_base=frozenset({'The Incredibles'}), items_add=frozenset({'Titan A.E.'}), confidence=0.2, lift=7.142857142857143)]),\n",
              " RelationRecord(items=frozenset({'The Incredibles', 'Valkyrie'}), support=0.004, ordered_statistics=[OrderedStatistic(items_base=frozenset({'The Incredibles'}), items_add=frozenset({'Valkyrie'}), confidence=0.2, lift=6.451612903225807)]),\n",
              " RelationRecord(items=frozenset({'The Internship', 'The Twilight Saga: Eclipse'}), support=0.006, ordered_statistics=[OrderedStatistic(items_base=frozenset({'The Twilight Saga: Eclipse'}), items_add=frozenset({'The Internship'}), confidence=0.23076923076923078, lift=6.593406593406593)]),\n",
              " RelationRecord(items=frozenset({'The Mortal Instruments: City of Bones', 'The Jackal'}), support=0.006, ordered_statistics=[OrderedStatistic(items_base=frozenset({'The Mortal Instruments: City of Bones'}), items_add=frozenset({'The Jackal'}), confidence=0.21428571428571427, lift=4.658385093167702)]),\n",
              " RelationRecord(items=frozenset({'The Last Witch Hunter', 'Year One'}), support=0.006, ordered_statistics=[OrderedStatistic(items_base=frozenset({'Year One'}), items_add=frozenset({'The Last Witch Hunter'}), confidence=0.21428571428571427, lift=6.1224489795918355)]),\n",
              " RelationRecord(items=frozenset({'The Polar Express', 'The Long Kiss Goodnight'}), support=0.006, ordered_statistics=[OrderedStatistic(items_base=frozenset({'The Long Kiss Goodnight'}), items_add=frozenset({'The Polar Express'}), confidence=0.2, lift=5.88235294117647)]),\n",
              " RelationRecord(items=frozenset({'The Postman', 'The Twilight Saga: Breaking Dawn - Part 2'}), support=0.005, ordered_statistics=[OrderedStatistic(items_base=frozenset({'The Postman'}), items_add=frozenset({'The Twilight Saga: Breaking Dawn - Part 2'}), confidence=0.2272727272727273, lift=3.1133250311332508)]),\n",
              " RelationRecord(items=frozenset({'The Twilight Saga: Breaking Dawn - Part 2', 'You, Me and Dupree'}), support=0.006, ordered_statistics=[OrderedStatistic(items_base=frozenset({'You, Me and Dupree'}), items_add=frozenset({'The Twilight Saga: Breaking Dawn - Part 2'}), confidence=0.23076923076923078, lift=3.1612223393045316)]),\n",
              " RelationRecord(items=frozenset({'Thunderbirds', 'The Wolfman'}), support=0.005, ordered_statistics=[OrderedStatistic(items_base=frozenset({'Thunderbirds'}), items_add=frozenset({'The Wolfman'}), confidence=0.2173913043478261, lift=6.793478260869565)]),\n",
              " RelationRecord(items=frozenset({'Titan A.E.', 'Total Recall'}), support=0.006, ordered_statistics=[OrderedStatistic(items_base=frozenset({'Titan A.E.'}), items_add=frozenset({'Total Recall'}), confidence=0.21428571428571427, lift=3.694581280788177)]),\n",
              " RelationRecord(items=frozenset({'True Lies', 'Tower Heist'}), support=0.006, ordered_statistics=[OrderedStatistic(items_base=frozenset({'True Lies'}), items_add=frozenset({'Tower Heist'}), confidence=0.2, lift=5.555555555555556)]),\n",
              " RelationRecord(items=frozenset({'Wanted', 'White House Down'}), support=0.004, ordered_statistics=[OrderedStatistic(items_base=frozenset({'Wanted'}), items_add=frozenset({'White House Down'}), confidence=0.22222222222222224, lift=7.936507936507937)])]"
            ]
          },
          "metadata": {
            "tags": []
          },
          "execution_count": 13
        }
      ]
    },
    {
      "cell_type": "markdown",
      "metadata": {
        "id": "E0rb8L-KM8KZ"
      },
      "source": [
        "## Visualization of Results"
      ]
    },
    {
      "cell_type": "code",
      "metadata": {
        "id": "IJPGhLzGM8Ka"
      },
      "source": [
        "movie,r1,support=[],[],[]\n",
        "for result in results:\n",
        "    movie.append(tuple(result[2][0][0])[0])\n",
        "    r1.append(tuple(result[2][0][1])[0])\n",
        "    support.append(result[1])"
      ],
      "execution_count": null,
      "outputs": []
    },
    {
      "cell_type": "code",
      "metadata": {
        "id": "UZNd8kQpM8Kf"
      },
      "source": [
        "columns=list(zip(movie,r1,support))"
      ],
      "execution_count": null,
      "outputs": []
    },
    {
      "cell_type": "markdown",
      "metadata": {
        "id": "fgLpIrPdM8Km"
      },
      "source": [
        "Converting into dataframe"
      ]
    },
    {
      "cell_type": "code",
      "metadata": {
        "id": "sDudA2BLM8Ko",
        "colab": {
          "base_uri": "https://localhost:8080/",
          "height": 419
        },
        "outputId": "3b5a9e79-8e83-41f5-a395-39fd169dbfd2"
      },
      "source": [
        "result_df=pd.DataFrame(columns)\n",
        "result_df.columns=['Film yang dipilih','Rekomendasi','Support']\n",
        "result_df"
      ],
      "execution_count": null,
      "outputs": [
        {
          "output_type": "execute_result",
          "data": {
            "text/html": [
              "<div>\n",
              "<style scoped>\n",
              "    .dataframe tbody tr th:only-of-type {\n",
              "        vertical-align: middle;\n",
              "    }\n",
              "\n",
              "    .dataframe tbody tr th {\n",
              "        vertical-align: top;\n",
              "    }\n",
              "\n",
              "    .dataframe thead th {\n",
              "        text-align: right;\n",
              "    }\n",
              "</style>\n",
              "<table border=\"1\" class=\"dataframe\">\n",
              "  <thead>\n",
              "    <tr style=\"text-align: right;\">\n",
              "      <th></th>\n",
              "      <th>Film yang dipilih</th>\n",
              "      <th>Rekomendasi</th>\n",
              "      <th>Support</th>\n",
              "    </tr>\n",
              "  </thead>\n",
              "  <tbody>\n",
              "    <tr>\n",
              "      <th>0</th>\n",
              "      <td>102 Dalmatians</td>\n",
              "      <td>San Andreas</td>\n",
              "      <td>0.005</td>\n",
              "    </tr>\n",
              "    <tr>\n",
              "      <th>1</th>\n",
              "      <td>Happy Feet 2</td>\n",
              "      <td>2 Fast 2 Furious</td>\n",
              "      <td>0.004</td>\n",
              "    </tr>\n",
              "    <tr>\n",
              "      <th>2</th>\n",
              "      <td>Man on Fire</td>\n",
              "      <td>2 Fast 2 Furious</td>\n",
              "      <td>0.004</td>\n",
              "    </tr>\n",
              "    <tr>\n",
              "      <th>3</th>\n",
              "      <td>Unforgotten</td>\n",
              "      <td>2 Fast 2 Furious</td>\n",
              "      <td>0.005</td>\n",
              "    </tr>\n",
              "    <tr>\n",
              "      <th>4</th>\n",
              "      <td>2 Guns</td>\n",
              "      <td>Ted 2</td>\n",
              "      <td>0.006</td>\n",
              "    </tr>\n",
              "    <tr>\n",
              "      <th>...</th>\n",
              "      <td>...</td>\n",
              "      <td>...</td>\n",
              "      <td>...</td>\n",
              "    </tr>\n",
              "    <tr>\n",
              "      <th>222</th>\n",
              "      <td>You, Me and Dupree</td>\n",
              "      <td>The Twilight Saga: Breaking Dawn - Part 2</td>\n",
              "      <td>0.006</td>\n",
              "    </tr>\n",
              "    <tr>\n",
              "      <th>223</th>\n",
              "      <td>Thunderbirds</td>\n",
              "      <td>The Wolfman</td>\n",
              "      <td>0.005</td>\n",
              "    </tr>\n",
              "    <tr>\n",
              "      <th>224</th>\n",
              "      <td>Titan A.E.</td>\n",
              "      <td>Total Recall</td>\n",
              "      <td>0.006</td>\n",
              "    </tr>\n",
              "    <tr>\n",
              "      <th>225</th>\n",
              "      <td>True Lies</td>\n",
              "      <td>Tower Heist</td>\n",
              "      <td>0.006</td>\n",
              "    </tr>\n",
              "    <tr>\n",
              "      <th>226</th>\n",
              "      <td>Wanted</td>\n",
              "      <td>White House Down</td>\n",
              "      <td>0.004</td>\n",
              "    </tr>\n",
              "  </tbody>\n",
              "</table>\n",
              "<p>227 rows × 3 columns</p>\n",
              "</div>"
            ],
            "text/plain": [
              "      Film yang dipilih                                Rekomendasi  Support\n",
              "0        102 Dalmatians                                San Andreas    0.005\n",
              "1          Happy Feet 2                           2 Fast 2 Furious    0.004\n",
              "2           Man on Fire                           2 Fast 2 Furious    0.004\n",
              "3           Unforgotten                           2 Fast 2 Furious    0.005\n",
              "4                2 Guns                                      Ted 2    0.006\n",
              "..                  ...                                        ...      ...\n",
              "222  You, Me and Dupree  The Twilight Saga: Breaking Dawn - Part 2    0.006\n",
              "223        Thunderbirds                                The Wolfman    0.005\n",
              "224          Titan A.E.                               Total Recall    0.006\n",
              "225           True Lies                                Tower Heist    0.006\n",
              "226              Wanted                           White House Down    0.004\n",
              "\n",
              "[227 rows x 3 columns]"
            ]
          },
          "metadata": {
            "tags": []
          },
          "execution_count": 16
        }
      ]
    },
    {
      "cell_type": "markdown",
      "metadata": {
        "id": "HKvYvGApM8Kt"
      },
      "source": [
        "Diurutkan berdasarkan \"Support\""
      ]
    },
    {
      "cell_type": "code",
      "metadata": {
        "id": "-QYXRuUOM8Ku",
        "colab": {
          "base_uri": "https://localhost:8080/",
          "height": 419
        },
        "outputId": "0745eedb-9b5a-4faa-9318-f79c9b425aed"
      },
      "source": [
        "result_df=result_df.sort_values('Support',ascending=False)\n",
        "result_df"
      ],
      "execution_count": null,
      "outputs": [
        {
          "output_type": "execute_result",
          "data": {
            "text/html": [
              "<div>\n",
              "<style scoped>\n",
              "    .dataframe tbody tr th:only-of-type {\n",
              "        vertical-align: middle;\n",
              "    }\n",
              "\n",
              "    .dataframe tbody tr th {\n",
              "        vertical-align: top;\n",
              "    }\n",
              "\n",
              "    .dataframe thead th {\n",
              "        text-align: right;\n",
              "    }\n",
              "</style>\n",
              "<table border=\"1\" class=\"dataframe\">\n",
              "  <thead>\n",
              "    <tr style=\"text-align: right;\">\n",
              "      <th></th>\n",
              "      <th>Film yang dipilih</th>\n",
              "      <th>Rekomendasi</th>\n",
              "      <th>Support</th>\n",
              "    </tr>\n",
              "  </thead>\n",
              "  <tbody>\n",
              "    <tr>\n",
              "      <th>110</th>\n",
              "      <td>Mr. Popper's Penguins</td>\n",
              "      <td>Fantastic Four</td>\n",
              "      <td>0.008</td>\n",
              "    </tr>\n",
              "    <tr>\n",
              "      <th>107</th>\n",
              "      <td>Failure to Launch</td>\n",
              "      <td>Safe House</td>\n",
              "      <td>0.008</td>\n",
              "    </tr>\n",
              "    <tr>\n",
              "      <th>156</th>\n",
              "      <td>Last Man Standing</td>\n",
              "      <td>State of Play</td>\n",
              "      <td>0.008</td>\n",
              "    </tr>\n",
              "    <tr>\n",
              "      <th>108</th>\n",
              "      <td>Home on the Range</td>\n",
              "      <td>Fantastic Four</td>\n",
              "      <td>0.008</td>\n",
              "    </tr>\n",
              "    <tr>\n",
              "      <th>122</th>\n",
              "      <td>Treasure Planet</td>\n",
              "      <td>Godzilla Resurgence</td>\n",
              "      <td>0.007</td>\n",
              "    </tr>\n",
              "    <tr>\n",
              "      <th>...</th>\n",
              "      <td>...</td>\n",
              "      <td>...</td>\n",
              "      <td>...</td>\n",
              "    </tr>\n",
              "    <tr>\n",
              "      <th>42</th>\n",
              "      <td>Bedtime Stories</td>\n",
              "      <td>The Dark Knight</td>\n",
              "      <td>0.003</td>\n",
              "    </tr>\n",
              "    <tr>\n",
              "      <th>41</th>\n",
              "      <td>Bedtime Stories</td>\n",
              "      <td>Talladega Nights: The Ballad of Ricky Bobby</td>\n",
              "      <td>0.003</td>\n",
              "    </tr>\n",
              "    <tr>\n",
              "      <th>95</th>\n",
              "      <td>The Golden Compass</td>\n",
              "      <td>Elysium</td>\n",
              "      <td>0.003</td>\n",
              "    </tr>\n",
              "    <tr>\n",
              "      <th>39</th>\n",
              "      <td>Bedtime Stories</td>\n",
              "      <td>Superman II</td>\n",
              "      <td>0.003</td>\n",
              "    </tr>\n",
              "    <tr>\n",
              "      <th>40</th>\n",
              "      <td>Bedtime Stories</td>\n",
              "      <td>Superman Returns</td>\n",
              "      <td>0.003</td>\n",
              "    </tr>\n",
              "  </tbody>\n",
              "</table>\n",
              "<p>227 rows × 3 columns</p>\n",
              "</div>"
            ],
            "text/plain": [
              "         Film yang dipilih  ... Support\n",
              "110  Mr. Popper's Penguins  ...   0.008\n",
              "107      Failure to Launch  ...   0.008\n",
              "156      Last Man Standing  ...   0.008\n",
              "108      Home on the Range  ...   0.008\n",
              "122        Treasure Planet  ...   0.007\n",
              "..                     ...  ...     ...\n",
              "42         Bedtime Stories  ...   0.003\n",
              "41         Bedtime Stories  ...   0.003\n",
              "95      The Golden Compass  ...   0.003\n",
              "39         Bedtime Stories  ...   0.003\n",
              "40         Bedtime Stories  ...   0.003\n",
              "\n",
              "[227 rows x 3 columns]"
            ]
          },
          "metadata": {
            "tags": []
          },
          "execution_count": 17
        }
      ]
    }
  ]
}